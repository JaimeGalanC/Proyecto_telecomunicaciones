{
 "cells": [
  {
   "cell_type": "markdown",
   "id": "793708f3",
   "metadata": {},
   "source": [
    "<a id='contenidos'></a>"
   ]
  },
  {
   "cell_type": "markdown",
   "id": "c2db135e",
   "metadata": {
    "toc": true
   },
   "source": [
    "<h1>Tabla de Contenidos<span class=\"tocSkip\"></span></h1>\n",
    "<div class=\"toc\"><ul class=\"toc-item\"><li><span><a href=\"#Descripción-del-proyecto\" data-toc-modified-id=\"Descripción-del-proyecto-1\"><span class=\"toc-item-num\">1&nbsp;&nbsp;</span>Descripción del proyecto</a></span></li><li><span><a href=\"#Objetivos-del-proyecto\" data-toc-modified-id=\"Objetivos-del-proyecto-2\"><span class=\"toc-item-num\">2&nbsp;&nbsp;</span>Objetivos del proyecto</a></span></li><li><span><a href=\"#Inicialización\" data-toc-modified-id=\"Inicialización-3\"><span class=\"toc-item-num\">3&nbsp;&nbsp;</span>Inicialización</a></span></li><li><span><a href=\"#Carga-de-datos\" data-toc-modified-id=\"Carga-de-datos-4\"><span class=\"toc-item-num\">4&nbsp;&nbsp;</span>Carga de datos</a></span></li><li><span><a href=\"#Preprocesamiento-de-datos\" data-toc-modified-id=\"Preprocesamiento-de-datos-5\"><span class=\"toc-item-num\">5&nbsp;&nbsp;</span>Preprocesamiento de datos</a></span><ul class=\"toc-item\"><li><span><a href=\"#Valores-nulos\" data-toc-modified-id=\"Valores-nulos-5.1\"><span class=\"toc-item-num\">5.1&nbsp;&nbsp;</span>Valores nulos</a></span></li><li><span><a href=\"#Valores-duplicados\" data-toc-modified-id=\"Valores-duplicados-5.2\"><span class=\"toc-item-num\">5.2&nbsp;&nbsp;</span>Valores duplicados</a></span></li></ul></li><li><span><a href=\"#Análisis-exploratorio\" data-toc-modified-id=\"Análisis-exploratorio-6\"><span class=\"toc-item-num\">6&nbsp;&nbsp;</span>Análisis exploratorio</a></span></li><li><span><a href=\"#Estadísticas-para-los-operadores\" data-toc-modified-id=\"Estadísticas-para-los-operadores-7\"><span class=\"toc-item-num\">7&nbsp;&nbsp;</span>Estadísticas para los operadores</a></span><ul class=\"toc-item\"><li><span><a href=\"#Distribución-de-las-llamadas-entrantes-pérdidas\" data-toc-modified-id=\"Distribución-de-las-llamadas-entrantes-pérdidas-7.1\"><span class=\"toc-item-num\">7.1&nbsp;&nbsp;</span>Distribución de las llamadas entrantes pérdidas</a></span></li><li><span><a href=\"#Distribución-del-tiempo-promedio-de-espera-para-las-llamadas-entrantes\" data-toc-modified-id=\"Distribución-del-tiempo-promedio-de-espera-para-las-llamadas-entrantes-7.2\"><span class=\"toc-item-num\">7.2&nbsp;&nbsp;</span>Distribución del tiempo promedio de espera para las llamadas entrantes</a></span></li><li><span><a href=\"#Distribución-de-las-llamadas-salientes\" data-toc-modified-id=\"Distribución-de-las-llamadas-salientes-7.3\"><span class=\"toc-item-num\">7.3&nbsp;&nbsp;</span>Distribución de las llamadas salientes</a></span></li></ul></li><li><span><a href=\"#Operadores-ineficientes\" data-toc-modified-id=\"Operadores-ineficientes-8\"><span class=\"toc-item-num\">8&nbsp;&nbsp;</span>Operadores ineficientes</a></span></li><li><span><a href=\"#Referencias\" data-toc-modified-id=\"Referencias-9\"><span class=\"toc-item-num\">9&nbsp;&nbsp;</span>Referencias</a></span></li><li><span><a href=\"#Links\" data-toc-modified-id=\"Links-10\"><span class=\"toc-item-num\">10&nbsp;&nbsp;</span>Links</a></span></li></ul></div>"
   ]
  },
  {
   "cell_type": "markdown",
   "id": "4a68df82",
   "metadata": {},
   "source": [
    "## Descripción del proyecto  \n",
    "El servicio de telefonía virtual CallMeMaybe está desarrollando una nueva función que brindará a los supervisores y las supervisores información sobre los operadores menos eficaces. Se considera que un operador es ineficaz si tiene una gran cantidad de llamadas entrantes perdidas (internas y externas) y un tiempo de espera prolongado para las llamadas entrantes. Además, si se supone que un operador debe realizar llamadas salientes, un número reducido de ellas también será un signo de ineficacia."
   ]
  },
  {
   "cell_type": "markdown",
   "id": "e5f4ed1e",
   "metadata": {},
   "source": [
    "## Objetivos del proyecto"
   ]
  },
  {
   "cell_type": "markdown",
   "id": "83ff458c",
   "metadata": {},
   "source": [
    "Trataremos de responder a las preguntas:\n",
    "- **¿Qué queremos conseguir y por qué?** Obtener información de los operadores menos eficaces.\n",
    "    \n",
    "    \n",
    "- **¿A quién le interesa el producto?** A los supervisores y las supervisores.\n",
    "\n",
    "- **¿Qué decisiones se tomarán de acuerdo al análisis?**\n",
    "\n",
    "*Se considera que un operador es ineficaz si tiene una gran cantidad de llamadas entrantes perdidas (internas y externas) y un tiempo de espera prolongado para las llamadas entrantes. Además, si se supone que un operador debe realizar llamadas salientes, un número reducido de ellas también será un signo de ineficacia.*"
   ]
  },
  {
   "cell_type": "markdown",
   "id": "6adab415",
   "metadata": {},
   "source": [
    "## Inicialización  \n",
    "En esta sección vamos a cargar todas las librerías a usar para realizar el estudio."
   ]
  },
  {
   "cell_type": "code",
   "execution_count": 29,
   "id": "c5645e13",
   "metadata": {},
   "outputs": [],
   "source": [
    "# Cargar todas las librerías\n",
    "import pandas as pd\n",
    "from datetime import datetime\n",
    "import matplotlib.pyplot as plt\n",
    "import seaborn as sns\n",
    "import numpy as np\n",
    "\n",
    "sns.set_palette(palette='tab10')"
   ]
  },
  {
   "cell_type": "markdown",
   "id": "c04c73a1",
   "metadata": {},
   "source": [
    "[Volver a contenidos](#contenidos)\n",
    "## Carga de datos  \n",
    "Realizaremos la carga de las distintas fuentes de datos en dataframes. Tenemos dos archivos `'.csv'` con los datos de los operadores y costos tarifarios para los clientes. Revisaremos cuántos registros y variables tenemos en el dataset."
   ]
  },
  {
   "cell_type": "code",
   "execution_count": 30,
   "id": "fe37ed33",
   "metadata": {},
   "outputs": [],
   "source": [
    "# cargar información de los operadores\n",
    "telecom_dataset_us=pd.read_csv('telecom_dataset_us.csv',parse_dates=['date'])"
   ]
  },
  {
   "cell_type": "code",
   "execution_count": 31,
   "id": "0c11b967",
   "metadata": {},
   "outputs": [],
   "source": [
    "# cargar información de los clientes\n",
    "telecom_clients_us=pd.read_csv('telecom_clients_us.csv',parse_dates=['date_start'])"
   ]
  },
  {
   "cell_type": "code",
   "execution_count": 32,
   "id": "3a4cb6ef-17a4-49b1-bf6e-2f790ef25fa7",
   "metadata": {},
   "outputs": [
    {
     "name": "stdout",
     "output_type": "stream",
     "text": [
      "<class 'pandas.core.frame.DataFrame'>\n",
      "RangeIndex: 53902 entries, 0 to 53901\n",
      "Data columns (total 9 columns):\n",
      " #   Column               Non-Null Count  Dtype                    \n",
      "---  ------               --------------  -----                    \n",
      " 0   user_id              53902 non-null  int64                    \n",
      " 1   date                 53902 non-null  datetime64[ns, UTC+03:00]\n",
      " 2   direction            53902 non-null  object                   \n",
      " 3   internal             53785 non-null  object                   \n",
      " 4   operator_id          45730 non-null  float64                  \n",
      " 5   is_missed_call       53902 non-null  bool                     \n",
      " 6   calls_count          53902 non-null  int64                    \n",
      " 7   call_duration        53902 non-null  int64                    \n",
      " 8   total_call_duration  53902 non-null  int64                    \n",
      "dtypes: bool(1), datetime64[ns, UTC+03:00](1), float64(1), int64(4), object(2)\n",
      "memory usage: 3.3+ MB\n"
     ]
    }
   ],
   "source": [
    "# mostramos información general del set de datos de los operadores\n",
    "telecom_dataset_us.info()"
   ]
  },
  {
   "cell_type": "code",
   "execution_count": 33,
   "id": "fb71d479-e460-4cd6-ac78-199c4f91cfc5",
   "metadata": {},
   "outputs": [
    {
     "data": {
      "text/html": [
       "<div>\n",
       "<style scoped>\n",
       "    .dataframe tbody tr th:only-of-type {\n",
       "        vertical-align: middle;\n",
       "    }\n",
       "\n",
       "    .dataframe tbody tr th {\n",
       "        vertical-align: top;\n",
       "    }\n",
       "\n",
       "    .dataframe thead th {\n",
       "        text-align: right;\n",
       "    }\n",
       "</style>\n",
       "<table border=\"1\" class=\"dataframe\">\n",
       "  <thead>\n",
       "    <tr style=\"text-align: right;\">\n",
       "      <th></th>\n",
       "      <th>user_id</th>\n",
       "      <th>date</th>\n",
       "      <th>direction</th>\n",
       "      <th>internal</th>\n",
       "      <th>operator_id</th>\n",
       "      <th>is_missed_call</th>\n",
       "      <th>calls_count</th>\n",
       "      <th>call_duration</th>\n",
       "      <th>total_call_duration</th>\n",
       "    </tr>\n",
       "  </thead>\n",
       "  <tbody>\n",
       "    <tr>\n",
       "      <th>37012</th>\n",
       "      <td>167626</td>\n",
       "      <td>2019-10-06 00:00:00+03:00</td>\n",
       "      <td>out</td>\n",
       "      <td>False</td>\n",
       "      <td>919202.0</td>\n",
       "      <td>False</td>\n",
       "      <td>95</td>\n",
       "      <td>11460</td>\n",
       "      <td>13310</td>\n",
       "    </tr>\n",
       "    <tr>\n",
       "      <th>47485</th>\n",
       "      <td>168187</td>\n",
       "      <td>2019-10-23 00:00:00+03:00</td>\n",
       "      <td>out</td>\n",
       "      <td>False</td>\n",
       "      <td>937808.0</td>\n",
       "      <td>True</td>\n",
       "      <td>10</td>\n",
       "      <td>0</td>\n",
       "      <td>269</td>\n",
       "    </tr>\n",
       "    <tr>\n",
       "      <th>49498</th>\n",
       "      <td>168187</td>\n",
       "      <td>2019-11-26 00:00:00+03:00</td>\n",
       "      <td>out</td>\n",
       "      <td>False</td>\n",
       "      <td>937762.0</td>\n",
       "      <td>False</td>\n",
       "      <td>3</td>\n",
       "      <td>134</td>\n",
       "      <td>196</td>\n",
       "    </tr>\n",
       "    <tr>\n",
       "      <th>1257</th>\n",
       "      <td>166405</td>\n",
       "      <td>2019-10-18 00:00:00+03:00</td>\n",
       "      <td>out</td>\n",
       "      <td>False</td>\n",
       "      <td>882686.0</td>\n",
       "      <td>False</td>\n",
       "      <td>76</td>\n",
       "      <td>7764</td>\n",
       "      <td>8891</td>\n",
       "    </tr>\n",
       "    <tr>\n",
       "      <th>35101</th>\n",
       "      <td>167521</td>\n",
       "      <td>2019-11-15 00:00:00+03:00</td>\n",
       "      <td>in</td>\n",
       "      <td>False</td>\n",
       "      <td>919790.0</td>\n",
       "      <td>False</td>\n",
       "      <td>38</td>\n",
       "      <td>2820</td>\n",
       "      <td>4048</td>\n",
       "    </tr>\n",
       "  </tbody>\n",
       "</table>\n",
       "</div>"
      ],
      "text/plain": [
       "       user_id                      date direction internal  operator_id  \\\n",
       "37012   167626 2019-10-06 00:00:00+03:00       out    False     919202.0   \n",
       "47485   168187 2019-10-23 00:00:00+03:00       out    False     937808.0   \n",
       "49498   168187 2019-11-26 00:00:00+03:00       out    False     937762.0   \n",
       "1257    166405 2019-10-18 00:00:00+03:00       out    False     882686.0   \n",
       "35101   167521 2019-11-15 00:00:00+03:00        in    False     919790.0   \n",
       "\n",
       "       is_missed_call  calls_count  call_duration  total_call_duration  \n",
       "37012           False           95          11460                13310  \n",
       "47485            True           10              0                  269  \n",
       "49498           False            3            134                  196  \n",
       "1257            False           76           7764                 8891  \n",
       "35101           False           38           2820                 4048  "
      ]
     },
     "execution_count": 33,
     "metadata": {},
     "output_type": "execute_result"
    }
   ],
   "source": [
    "# mostramos parte de los datos de los operadores\n",
    "telecom_dataset_us.sample(5)"
   ]
  },
  {
   "cell_type": "markdown",
   "id": "333531db-e7af-47e9-b420-f7487772da32",
   "metadata": {},
   "source": [
    "---\n",
    "El dataset comprimido `telecom_dataset_us.csv` contiene las siguientes columnas:\n",
    "\n",
    "- `user_id`: ID de la cuenta de cliente\n",
    "- `date`: fecha en la que se recuperaron las estadísticas\n",
    "- `direction`: \"dirección\" de llamada (`out` para saliente, `in` para entrante)\n",
    "- `internal`: si la llamada fue interna (entre los operadores de un cliente o clienta)\n",
    "- `operator_id`: identificador del operador\n",
    "- `is_missed_call`: si fue una llamada perdida\n",
    "- `calls_count`: número de llamadas\n",
    "- `call_duration`: duración de la llamada en minutos (sin incluir el tiempo de espera)\n",
    "- `total_call_duration`: duración de la llamada en minutos (incluido el tiempo de espera)\n",
    "\n",
    "\n",
    "**Tenemos 53,902 registros y nueve columnas.** El nombre de las columnas es descriptivo y está escrito en formato **snake_case**. El tipo de datos para cada columna es el correcto, a excepción de la columna `'operator_id'` que tiene el tipo `'float64'` pero observando sus valores podemos convertirlo al tipo `'int64'`.\n",
    "\n",
    "---"
   ]
  },
  {
   "cell_type": "code",
   "execution_count": 34,
   "id": "4038f253-18a2-43ca-8fb6-217d0b831b72",
   "metadata": {},
   "outputs": [
    {
     "name": "stdout",
     "output_type": "stream",
     "text": [
      "<class 'pandas.core.frame.DataFrame'>\n",
      "RangeIndex: 732 entries, 0 to 731\n",
      "Data columns (total 3 columns):\n",
      " #   Column       Non-Null Count  Dtype         \n",
      "---  ------       --------------  -----         \n",
      " 0   user_id      732 non-null    int64         \n",
      " 1   tariff_plan  732 non-null    object        \n",
      " 2   date_start   732 non-null    datetime64[ns]\n",
      "dtypes: datetime64[ns](1), int64(1), object(1)\n",
      "memory usage: 17.3+ KB\n"
     ]
    }
   ],
   "source": [
    "# mostramos información general del set de datos de los clientes\n",
    "telecom_clients_us.info()"
   ]
  },
  {
   "cell_type": "code",
   "execution_count": 35,
   "id": "ad0de4ac-d2b1-4346-aeee-79599a304055",
   "metadata": {},
   "outputs": [
    {
     "data": {
      "text/html": [
       "<div>\n",
       "<style scoped>\n",
       "    .dataframe tbody tr th:only-of-type {\n",
       "        vertical-align: middle;\n",
       "    }\n",
       "\n",
       "    .dataframe tbody tr th {\n",
       "        vertical-align: top;\n",
       "    }\n",
       "\n",
       "    .dataframe thead th {\n",
       "        text-align: right;\n",
       "    }\n",
       "</style>\n",
       "<table border=\"1\" class=\"dataframe\">\n",
       "  <thead>\n",
       "    <tr style=\"text-align: right;\">\n",
       "      <th></th>\n",
       "      <th>user_id</th>\n",
       "      <th>tariff_plan</th>\n",
       "      <th>date_start</th>\n",
       "    </tr>\n",
       "  </thead>\n",
       "  <tbody>\n",
       "    <tr>\n",
       "      <th>0</th>\n",
       "      <td>166713</td>\n",
       "      <td>A</td>\n",
       "      <td>2019-08-15</td>\n",
       "    </tr>\n",
       "    <tr>\n",
       "      <th>1</th>\n",
       "      <td>166901</td>\n",
       "      <td>A</td>\n",
       "      <td>2019-08-23</td>\n",
       "    </tr>\n",
       "    <tr>\n",
       "      <th>2</th>\n",
       "      <td>168527</td>\n",
       "      <td>A</td>\n",
       "      <td>2019-10-29</td>\n",
       "    </tr>\n",
       "    <tr>\n",
       "      <th>3</th>\n",
       "      <td>167097</td>\n",
       "      <td>A</td>\n",
       "      <td>2019-09-01</td>\n",
       "    </tr>\n",
       "    <tr>\n",
       "      <th>4</th>\n",
       "      <td>168193</td>\n",
       "      <td>A</td>\n",
       "      <td>2019-10-16</td>\n",
       "    </tr>\n",
       "  </tbody>\n",
       "</table>\n",
       "</div>"
      ],
      "text/plain": [
       "   user_id tariff_plan date_start\n",
       "0   166713           A 2019-08-15\n",
       "1   166901           A 2019-08-23\n",
       "2   168527           A 2019-10-29\n",
       "3   167097           A 2019-09-01\n",
       "4   168193           A 2019-10-16"
      ]
     },
     "execution_count": 35,
     "metadata": {},
     "output_type": "execute_result"
    }
   ],
   "source": [
    "# mostramos parte de los datos de los clientes\n",
    "telecom_clients_us.head()"
   ]
  },
  {
   "cell_type": "markdown",
   "id": "f4e9e03a",
   "metadata": {},
   "source": [
    "---\n",
    "El conjunto de datos `telecom_clients_us.csv` tiene las siguientes columnas:\n",
    "\n",
    "- `user_id`: ID de usuario/a\n",
    "- `tariff_plan`: tarifa actual de la clientela\n",
    "- `date_start`: fecha de registro de la clientela\n",
    "\n",
    "\n",
    "**Tenemos 732 registros y tres columnas.** El nombre de las columnas es descriptivo y está escrito en formato **snake_case**. El tipo de datos para cada columna es el correcto.\n",
    "\n",
    "---"
   ]
  },
  {
   "cell_type": "markdown",
   "id": "8f233c0b-6cb6-4e2e-8e89-2d274ef35e31",
   "metadata": {},
   "source": [
    "[Volver a contenidos](#contenidos)\n",
    "## Preprocesamiento de datos  \n",
    "Revisaremos el dataset en busca de valores nulos, duplicados o posibles valores outliers."
   ]
  },
  {
   "cell_type": "markdown",
   "id": "e295c726-a36b-4433-9d91-183c89d81860",
   "metadata": {},
   "source": [
    "[Volver a contenidos](#contenidos)\n",
    "### Valores nulos  \n",
    "Revisaremos las columnas de cada uno de los dataset en busca de valores nulos y en su caso los corregiremos."
   ]
  },
  {
   "cell_type": "code",
   "execution_count": 36,
   "id": "e85a29f1-cbda-4004-ae82-074e2a9aea50",
   "metadata": {},
   "outputs": [
    {
     "data": {
      "text/plain": [
       "user_id        0\n",
       "tariff_plan    0\n",
       "date_start     0\n",
       "dtype: int64"
      ]
     },
     "execution_count": 36,
     "metadata": {},
     "output_type": "execute_result"
    }
   ],
   "source": [
    "# revisamos el dataset de los usuarios\n",
    "telecom_clients_us.isna().sum()"
   ]
  },
  {
   "cell_type": "markdown",
   "id": "bb94e3bc-fccd-4616-84c2-b3333f3d8359",
   "metadata": {},
   "source": [
    "El dataset de los usuarios no presenta valores nulos."
   ]
  },
  {
   "cell_type": "code",
   "execution_count": 37,
   "id": "a0b69702-597f-4316-803b-e8f6523732c7",
   "metadata": {},
   "outputs": [
    {
     "data": {
      "text/plain": [
       "user_id                   0\n",
       "date                      0\n",
       "direction                 0\n",
       "internal                117\n",
       "operator_id            8172\n",
       "is_missed_call            0\n",
       "calls_count               0\n",
       "call_duration             0\n",
       "total_call_duration       0\n",
       "dtype: int64"
      ]
     },
     "execution_count": 37,
     "metadata": {},
     "output_type": "execute_result"
    }
   ],
   "source": [
    "# revisamos el dataset de los operadores\n",
    "telecom_dataset_us.isna().sum()"
   ]
  },
  {
   "cell_type": "code",
   "execution_count": 38,
   "id": "bfe42c63-f22e-4109-9ce6-213c127245ca",
   "metadata": {},
   "outputs": [
    {
     "data": {
      "text/html": [
       "<div>\n",
       "<style scoped>\n",
       "    .dataframe tbody tr th:only-of-type {\n",
       "        vertical-align: middle;\n",
       "    }\n",
       "\n",
       "    .dataframe tbody tr th {\n",
       "        vertical-align: top;\n",
       "    }\n",
       "\n",
       "    .dataframe thead th {\n",
       "        text-align: right;\n",
       "    }\n",
       "</style>\n",
       "<table border=\"1\" class=\"dataframe\">\n",
       "  <thead>\n",
       "    <tr style=\"text-align: right;\">\n",
       "      <th></th>\n",
       "      <th>user_id</th>\n",
       "      <th>date</th>\n",
       "      <th>direction</th>\n",
       "      <th>internal</th>\n",
       "      <th>operator_id</th>\n",
       "      <th>is_missed_call</th>\n",
       "      <th>calls_count</th>\n",
       "      <th>call_duration</th>\n",
       "      <th>total_call_duration</th>\n",
       "    </tr>\n",
       "  </thead>\n",
       "  <tbody>\n",
       "    <tr>\n",
       "      <th>37580</th>\n",
       "      <td>167626</td>\n",
       "      <td>2019-10-18 00:00:00+03:00</td>\n",
       "      <td>in</td>\n",
       "      <td>NaN</td>\n",
       "      <td>NaN</td>\n",
       "      <td>True</td>\n",
       "      <td>2</td>\n",
       "      <td>0</td>\n",
       "      <td>4</td>\n",
       "    </tr>\n",
       "    <tr>\n",
       "      <th>1924</th>\n",
       "      <td>166406</td>\n",
       "      <td>2019-09-02 00:00:00+03:00</td>\n",
       "      <td>in</td>\n",
       "      <td>NaN</td>\n",
       "      <td>879898.0</td>\n",
       "      <td>False</td>\n",
       "      <td>1</td>\n",
       "      <td>2</td>\n",
       "      <td>9</td>\n",
       "    </tr>\n",
       "    <tr>\n",
       "      <th>36828</th>\n",
       "      <td>167626</td>\n",
       "      <td>2019-10-03 00:00:00+03:00</td>\n",
       "      <td>in</td>\n",
       "      <td>NaN</td>\n",
       "      <td>919164.0</td>\n",
       "      <td>False</td>\n",
       "      <td>1</td>\n",
       "      <td>19</td>\n",
       "      <td>25</td>\n",
       "    </tr>\n",
       "    <tr>\n",
       "      <th>29985</th>\n",
       "      <td>167272</td>\n",
       "      <td>2019-10-09 00:00:00+03:00</td>\n",
       "      <td>in</td>\n",
       "      <td>NaN</td>\n",
       "      <td>910018.0</td>\n",
       "      <td>False</td>\n",
       "      <td>1</td>\n",
       "      <td>115</td>\n",
       "      <td>135</td>\n",
       "    </tr>\n",
       "    <tr>\n",
       "      <th>38358</th>\n",
       "      <td>167650</td>\n",
       "      <td>2019-11-11 00:00:00+03:00</td>\n",
       "      <td>in</td>\n",
       "      <td>NaN</td>\n",
       "      <td>NaN</td>\n",
       "      <td>True</td>\n",
       "      <td>1</td>\n",
       "      <td>0</td>\n",
       "      <td>49</td>\n",
       "    </tr>\n",
       "  </tbody>\n",
       "</table>\n",
       "</div>"
      ],
      "text/plain": [
       "       user_id                      date direction internal  operator_id  \\\n",
       "37580   167626 2019-10-18 00:00:00+03:00        in      NaN          NaN   \n",
       "1924    166406 2019-09-02 00:00:00+03:00        in      NaN     879898.0   \n",
       "36828   167626 2019-10-03 00:00:00+03:00        in      NaN     919164.0   \n",
       "29985   167272 2019-10-09 00:00:00+03:00        in      NaN     910018.0   \n",
       "38358   167650 2019-11-11 00:00:00+03:00        in      NaN          NaN   \n",
       "\n",
       "       is_missed_call  calls_count  call_duration  total_call_duration  \n",
       "37580            True            2              0                    4  \n",
       "1924            False            1              2                    9  \n",
       "36828           False            1             19                   25  \n",
       "29985           False            1            115                  135  \n",
       "38358            True            1              0                   49  "
      ]
     },
     "execution_count": 38,
     "metadata": {},
     "output_type": "execute_result"
    }
   ],
   "source": [
    "# revisamos el dataset para los valores nulos en la columna 'internal'\n",
    "# 'internal' nos dice si la llamada fue hecha entre los operadores de un cliente, toma valores 'True' o 'False'\n",
    "telecom_dataset_us[telecom_dataset_us['internal'].isna()].sample(5)"
   ]
  },
  {
   "cell_type": "code",
   "execution_count": 39,
   "id": "b41986fa-380e-4a39-901d-ecca5f5e9ea9",
   "metadata": {},
   "outputs": [
    {
     "data": {
      "text/plain": [
       "internal\n",
       "False    47621\n",
       "True      6164\n",
       "NaN        117\n",
       "Name: count, dtype: int64"
      ]
     },
     "execution_count": 39,
     "metadata": {},
     "output_type": "execute_result"
    }
   ],
   "source": [
    "# veamos la distribución de los valores en la columna 'internal'\n",
    "telecom_dataset_us['internal'].value_counts(dropna=False)"
   ]
  },
  {
   "cell_type": "markdown",
   "id": "cc8d014f-c022-4dd9-874b-4e9e0e9412c1",
   "metadata": {},
   "source": [
    "Podemos ver que es más probable el valor `'False'` por lo que estimaremos los valores nulos usando el valor `'False'`."
   ]
  },
  {
   "cell_type": "code",
   "execution_count": 40,
   "id": "95760964-2045-43c3-be35-d50f78356c58",
   "metadata": {},
   "outputs": [],
   "source": [
    "# reemplazamos los valores nulos en la columna 'internal'\n",
    "telecom_dataset_us['internal'].fillna(False,inplace=True)"
   ]
  },
  {
   "cell_type": "code",
   "execution_count": 41,
   "id": "3865efab-7a83-40de-af86-cdd78cbcd760",
   "metadata": {},
   "outputs": [
    {
     "data": {
      "text/plain": [
       "user_id                   0\n",
       "date                      0\n",
       "direction                 0\n",
       "internal                  0\n",
       "operator_id            8172\n",
       "is_missed_call            0\n",
       "calls_count               0\n",
       "call_duration             0\n",
       "total_call_duration       0\n",
       "dtype: int64"
      ]
     },
     "execution_count": 41,
     "metadata": {},
     "output_type": "execute_result"
    }
   ],
   "source": [
    "# verificamos que se haya hecho el reemplazo\n",
    "telecom_dataset_us.isna().sum()"
   ]
  },
  {
   "cell_type": "markdown",
   "id": "4826fda1-fb3a-4767-8ead-666e0574d49d",
   "metadata": {},
   "source": [
    "Ya no tenemos valores nulos en la columna `'internal'`, procedemos ahora a revisar la columna `'operador_id'`."
   ]
  },
  {
   "cell_type": "markdown",
   "id": "d103b33b",
   "metadata": {},
   "source": [
    "Probemos haciendo algunas agrupaciones para la columna `'operator_id'` con otras columnas"
   ]
  },
  {
   "cell_type": "code",
   "execution_count": 42,
   "id": "faaa759c",
   "metadata": {},
   "outputs": [
    {
     "data": {
      "text/html": [
       "<div>\n",
       "<style scoped>\n",
       "    .dataframe tbody tr th:only-of-type {\n",
       "        vertical-align: middle;\n",
       "    }\n",
       "\n",
       "    .dataframe tbody tr th {\n",
       "        vertical-align: top;\n",
       "    }\n",
       "\n",
       "    .dataframe thead th {\n",
       "        text-align: right;\n",
       "    }\n",
       "</style>\n",
       "<table border=\"1\" class=\"dataframe\">\n",
       "  <thead>\n",
       "    <tr style=\"text-align: right;\">\n",
       "      <th></th>\n",
       "      <th>user_id</th>\n",
       "      <th>direction</th>\n",
       "      <th>operator_id</th>\n",
       "      <th>count</th>\n",
       "    </tr>\n",
       "  </thead>\n",
       "  <tbody>\n",
       "    <tr>\n",
       "      <th>1982</th>\n",
       "      <td>168601</td>\n",
       "      <td>in</td>\n",
       "      <td>952914.0</td>\n",
       "      <td>18</td>\n",
       "    </tr>\n",
       "    <tr>\n",
       "      <th>1983</th>\n",
       "      <td>168601</td>\n",
       "      <td>in</td>\n",
       "      <td>NaN</td>\n",
       "      <td>17</td>\n",
       "    </tr>\n",
       "    <tr>\n",
       "      <th>1984</th>\n",
       "      <td>168601</td>\n",
       "      <td>in</td>\n",
       "      <td>952916.0</td>\n",
       "      <td>1</td>\n",
       "    </tr>\n",
       "    <tr>\n",
       "      <th>1985</th>\n",
       "      <td>168601</td>\n",
       "      <td>out</td>\n",
       "      <td>952914.0</td>\n",
       "      <td>37</td>\n",
       "    </tr>\n",
       "    <tr>\n",
       "      <th>1986</th>\n",
       "      <td>168601</td>\n",
       "      <td>out</td>\n",
       "      <td>952916.0</td>\n",
       "      <td>4</td>\n",
       "    </tr>\n",
       "    <tr>\n",
       "      <th>1987</th>\n",
       "      <td>168603</td>\n",
       "      <td>in</td>\n",
       "      <td>NaN</td>\n",
       "      <td>1</td>\n",
       "    </tr>\n",
       "    <tr>\n",
       "      <th>1988</th>\n",
       "      <td>168603</td>\n",
       "      <td>out</td>\n",
       "      <td>959118.0</td>\n",
       "      <td>7</td>\n",
       "    </tr>\n",
       "    <tr>\n",
       "      <th>1989</th>\n",
       "      <td>168606</td>\n",
       "      <td>in</td>\n",
       "      <td>NaN</td>\n",
       "      <td>2</td>\n",
       "    </tr>\n",
       "    <tr>\n",
       "      <th>1990</th>\n",
       "      <td>168606</td>\n",
       "      <td>in</td>\n",
       "      <td>957922.0</td>\n",
       "      <td>2</td>\n",
       "    </tr>\n",
       "    <tr>\n",
       "      <th>1991</th>\n",
       "      <td>168606</td>\n",
       "      <td>out</td>\n",
       "      <td>957922.0</td>\n",
       "      <td>8</td>\n",
       "    </tr>\n",
       "  </tbody>\n",
       "</table>\n",
       "</div>"
      ],
      "text/plain": [
       "      user_id direction  operator_id  count\n",
       "1982   168601        in     952914.0     18\n",
       "1983   168601        in          NaN     17\n",
       "1984   168601        in     952916.0      1\n",
       "1985   168601       out     952914.0     37\n",
       "1986   168601       out     952916.0      4\n",
       "1987   168603        in          NaN      1\n",
       "1988   168603       out     959118.0      7\n",
       "1989   168606        in          NaN      2\n",
       "1990   168606        in     957922.0      2\n",
       "1991   168606       out     957922.0      8"
      ]
     },
     "execution_count": 42,
     "metadata": {},
     "output_type": "execute_result"
    }
   ],
   "source": [
    "# agrupemos por 'user_id' y 'direction' para poder obtener las frecuencias de 'operator_id'\n",
    "telecom_dataset_us.groupby(['user_id','direction'])['operator_id'].value_counts(dropna=False).reset_index().tail(10)"
   ]
  },
  {
   "cell_type": "markdown",
   "id": "e005df18",
   "metadata": {},
   "source": [
    "Notamos que no hay manera de imputar adecuadamente los valores nulos de `'operator_id'`, de tal forma que para no incurrir en errores en el cálculo de alguna estadística vamos a proceder a eliminar esos registros con valores nulos y ver la cantidad de información que perdemos."
   ]
  },
  {
   "cell_type": "code",
   "execution_count": 43,
   "id": "ed9cddf7-6a2d-463f-8198-694f37d9f277",
   "metadata": {},
   "outputs": [
    {
     "data": {
      "text/plain": [
       "(45730, 9)"
      ]
     },
     "execution_count": 43,
     "metadata": {},
     "output_type": "execute_result"
    }
   ],
   "source": [
    "# creamos un dataframe sin valores nulos\n",
    "telecom_dataset_us_notna=telecom_dataset_us[telecom_dataset_us['operator_id'].notna()]\n",
    "telecom_dataset_us_notna.shape"
   ]
  },
  {
   "cell_type": "code",
   "execution_count": 44,
   "id": "d5e927a4-7c06-4eb6-8c4c-ea16fcf27293",
   "metadata": {},
   "outputs": [
    {
     "data": {
      "text/plain": [
       "user_id                0\n",
       "date                   0\n",
       "direction              0\n",
       "internal               0\n",
       "operator_id            0\n",
       "is_missed_call         0\n",
       "calls_count            0\n",
       "call_duration          0\n",
       "total_call_duration    0\n",
       "dtype: int64"
      ]
     },
     "execution_count": 44,
     "metadata": {},
     "output_type": "execute_result"
    }
   ],
   "source": [
    "# revisamos el dataframe creado en busca de valores nulos\n",
    "telecom_dataset_us_notna.isna().sum()"
   ]
  },
  {
   "cell_type": "markdown",
   "id": "f5278812-e750-422b-8584-1cd0e6c749aa",
   "metadata": {},
   "source": [
    "Podemos notar que en el dataframe `'telecom_dataset_us_notna'` ya no tenemos valores nulos y que contamos con 45,730 registros y nueve columnas. Además, al eliminar esos 8,172 valores nulos hemos perdido aproximadamente un $\\frac{8172}{53902} x 100=15.16\\% $ de la información."
   ]
  },
  {
   "cell_type": "code",
   "execution_count": 45,
   "id": "1e98d7e4-3102-41ee-aa2e-5befb7f69ce4",
   "metadata": {},
   "outputs": [
    {
     "name": "stderr",
     "output_type": "stream",
     "text": [
      "C:\\Users\\jaime\\AppData\\Local\\Temp\\ipykernel_8448\\441981980.py:2: SettingWithCopyWarning: \n",
      "A value is trying to be set on a copy of a slice from a DataFrame.\n",
      "Try using .loc[row_indexer,col_indexer] = value instead\n",
      "\n",
      "See the caveats in the documentation: https://pandas.pydata.org/pandas-docs/stable/user_guide/indexing.html#returning-a-view-versus-a-copy\n",
      "  telecom_dataset_us_notna['operator_id']=telecom_dataset_us_notna['operator_id'].astype('int64')\n"
     ]
    }
   ],
   "source": [
    "# finalmente transformemos el tipo de datos de la columna 'operator_id' a una de tipo 'int64'\n",
    "telecom_dataset_us_notna['operator_id']=telecom_dataset_us_notna['operator_id'].astype('int64')"
   ]
  },
  {
   "cell_type": "code",
   "execution_count": 46,
   "id": "9adae111-d908-4052-95ba-153f464354a9",
   "metadata": {},
   "outputs": [
    {
     "name": "stderr",
     "output_type": "stream",
     "text": [
      "C:\\Users\\jaime\\AppData\\Local\\Temp\\ipykernel_8448\\429995221.py:2: SettingWithCopyWarning: \n",
      "A value is trying to be set on a copy of a slice from a DataFrame.\n",
      "Try using .loc[row_indexer,col_indexer] = value instead\n",
      "\n",
      "See the caveats in the documentation: https://pandas.pydata.org/pandas-docs/stable/user_guide/indexing.html#returning-a-view-versus-a-copy\n",
      "  telecom_dataset_us_notna.loc[:,'time_waiting']=telecom_dataset_us_notna.loc[:,'total_call_duration']-telecom_dataset_us_notna.loc[:,'call_duration']\n"
     ]
    }
   ],
   "source": [
    "# obtengamos el tiempo de espera de la llamada\n",
    "telecom_dataset_us_notna.loc[:,'time_waiting']=telecom_dataset_us_notna.loc[:,'total_call_duration']-telecom_dataset_us_notna.loc[:,'call_duration']"
   ]
  },
  {
   "cell_type": "code",
   "execution_count": 47,
   "id": "3ab1fab5-477b-400c-9fc2-55feeb6631dd",
   "metadata": {},
   "outputs": [
    {
     "name": "stdout",
     "output_type": "stream",
     "text": [
      "<class 'pandas.core.frame.DataFrame'>\n",
      "Index: 45730 entries, 1 to 53900\n",
      "Data columns (total 10 columns):\n",
      " #   Column               Non-Null Count  Dtype                    \n",
      "---  ------               --------------  -----                    \n",
      " 0   user_id              45730 non-null  int64                    \n",
      " 1   date                 45730 non-null  datetime64[ns, UTC+03:00]\n",
      " 2   direction            45730 non-null  object                   \n",
      " 3   internal             45730 non-null  bool                     \n",
      " 4   operator_id          45730 non-null  int64                    \n",
      " 5   is_missed_call       45730 non-null  bool                     \n",
      " 6   calls_count          45730 non-null  int64                    \n",
      " 7   call_duration        45730 non-null  int64                    \n",
      " 8   total_call_duration  45730 non-null  int64                    \n",
      " 9   time_waiting         45730 non-null  int64                    \n",
      "dtypes: bool(2), datetime64[ns, UTC+03:00](1), int64(6), object(1)\n",
      "memory usage: 3.2+ MB\n"
     ]
    }
   ],
   "source": [
    "# mostramos la información general del dataframe\n",
    "telecom_dataset_us_notna.info()"
   ]
  },
  {
   "cell_type": "markdown",
   "id": "d443279e-496b-4db2-ba2d-b33b95c210fb",
   "metadata": {},
   "source": [
    "[Volver a contenidos](#contenidos)\n",
    "### Valores duplicados  \n",
    "Revisaremos las columnas de cada uno de los dataset en busca de valores duplicados y en su caso los corregiremos."
   ]
  },
  {
   "cell_type": "code",
   "execution_count": 48,
   "id": "8d688338-174d-484a-9aa9-e8674e91edb2",
   "metadata": {},
   "outputs": [
    {
     "data": {
      "text/plain": [
       "0"
      ]
     },
     "execution_count": 48,
     "metadata": {},
     "output_type": "execute_result"
    }
   ],
   "source": [
    "# buscamos valores nulos en los registros de los usuarios\n",
    "telecom_clients_us.duplicated().sum()"
   ]
  },
  {
   "cell_type": "code",
   "execution_count": 49,
   "id": "b659a32b-2e71-4aa6-accf-7aa7ec2905e0",
   "metadata": {},
   "outputs": [
    {
     "data": {
      "text/plain": [
       "4184"
      ]
     },
     "execution_count": 49,
     "metadata": {},
     "output_type": "execute_result"
    }
   ],
   "source": [
    "# buscamos valores nulos en los registros de los operadores\n",
    "telecom_dataset_us_notna.duplicated().sum()"
   ]
  },
  {
   "cell_type": "code",
   "execution_count": 50,
   "id": "a2457704-b6e1-47e7-969d-fb5c596aea69",
   "metadata": {},
   "outputs": [
    {
     "name": "stderr",
     "output_type": "stream",
     "text": [
      "C:\\Users\\jaime\\AppData\\Local\\Temp\\ipykernel_8448\\2993552585.py:2: SettingWithCopyWarning: \n",
      "A value is trying to be set on a copy of a slice from a DataFrame\n",
      "\n",
      "See the caveats in the documentation: https://pandas.pydata.org/pandas-docs/stable/user_guide/indexing.html#returning-a-view-versus-a-copy\n",
      "  telecom_dataset_us_notna.drop_duplicates(inplace=True)\n"
     ]
    }
   ],
   "source": [
    "# eliminamos los registros duplicados en el dataframe de los operadores sin valores nulos\n",
    "telecom_dataset_us_notna.drop_duplicates(inplace=True)"
   ]
  },
  {
   "cell_type": "code",
   "execution_count": 51,
   "id": "56794a14-cd92-4c7d-ac5d-e55aa9959de3",
   "metadata": {},
   "outputs": [
    {
     "data": {
      "text/plain": [
       "0"
      ]
     },
     "execution_count": 51,
     "metadata": {},
     "output_type": "execute_result"
    }
   ],
   "source": [
    "# verificamos que se hayan eliminado los duplicados\n",
    "telecom_dataset_us_notna.duplicated().sum()"
   ]
  },
  {
   "cell_type": "code",
   "execution_count": 52,
   "id": "2d29675f-1dce-4ec0-a1a7-41d72c906990",
   "metadata": {},
   "outputs": [
    {
     "data": {
      "text/plain": [
       "(41546, 10)"
      ]
     },
     "execution_count": 52,
     "metadata": {},
     "output_type": "execute_result"
    }
   ],
   "source": [
    "# veamos el tamaño total del último dataframe creado para realizar los análisis\n",
    "telecom_dataset_us_notna.shape"
   ]
  },
  {
   "cell_type": "markdown",
   "id": "df9cfe7e-7655-4d38-b8dc-736adf2ce958",
   "metadata": {},
   "source": [
    "Este último dataframe ya no contiene valores nulos ni duplicados y cada columna tiene el tipo de datos correcto. Podemos ahora proceder a realizar un análisis exploratorio. Hemos perdido en total $\\frac{12356}{53902} x 100=22.9\\% $ de la información."
   ]
  },
  {
   "cell_type": "markdown",
   "id": "24e11c2c-a1fb-449e-bd06-4d613f03b82d",
   "metadata": {},
   "source": [
    "[Volver a contenidos](#contenidos)\n",
    "## Análisis exploratorio  \n",
    "Realizaremos un análisis exploratorio de los datos para observar sus distribuciones y posibles valores outliers."
   ]
  },
  {
   "cell_type": "code",
   "execution_count": 53,
   "id": "067d45eb-fa9a-4c73-811a-e7ba9698806e",
   "metadata": {},
   "outputs": [],
   "source": [
    "# creamos una lista con las variables a observar su distribución\n",
    "variables=['calls_count','call_duration','total_call_duration','time_waiting']"
   ]
  },
  {
   "cell_type": "code",
   "execution_count": 54,
   "id": "021a4941-688c-410d-ad77-230317643bf4",
   "metadata": {},
   "outputs": [
    {
     "data": {
      "text/html": [
       "<div>\n",
       "<style scoped>\n",
       "    .dataframe tbody tr th:only-of-type {\n",
       "        vertical-align: middle;\n",
       "    }\n",
       "\n",
       "    .dataframe tbody tr th {\n",
       "        vertical-align: top;\n",
       "    }\n",
       "\n",
       "    .dataframe thead th {\n",
       "        text-align: right;\n",
       "    }\n",
       "</style>\n",
       "<table border=\"1\" class=\"dataframe\">\n",
       "  <thead>\n",
       "    <tr style=\"text-align: right;\">\n",
       "      <th></th>\n",
       "      <th>count</th>\n",
       "      <th>mean</th>\n",
       "      <th>std</th>\n",
       "      <th>min</th>\n",
       "      <th>25%</th>\n",
       "      <th>50%</th>\n",
       "      <th>75%</th>\n",
       "      <th>max</th>\n",
       "    </tr>\n",
       "  </thead>\n",
       "  <tbody>\n",
       "    <tr>\n",
       "      <th>calls_count</th>\n",
       "      <td>41546.0</td>\n",
       "      <td>16.900424</td>\n",
       "      <td>59.749373</td>\n",
       "      <td>1.0</td>\n",
       "      <td>1.0</td>\n",
       "      <td>4.0</td>\n",
       "      <td>13.0</td>\n",
       "      <td>4817.0</td>\n",
       "    </tr>\n",
       "    <tr>\n",
       "      <th>call_duration</th>\n",
       "      <td>41546.0</td>\n",
       "      <td>1009.769172</td>\n",
       "      <td>4064.106117</td>\n",
       "      <td>0.0</td>\n",
       "      <td>0.0</td>\n",
       "      <td>106.0</td>\n",
       "      <td>770.0</td>\n",
       "      <td>144395.0</td>\n",
       "    </tr>\n",
       "    <tr>\n",
       "      <th>total_call_duration</th>\n",
       "      <td>41546.0</td>\n",
       "      <td>1321.592813</td>\n",
       "      <td>4785.978633</td>\n",
       "      <td>0.0</td>\n",
       "      <td>67.0</td>\n",
       "      <td>288.0</td>\n",
       "      <td>1104.0</td>\n",
       "      <td>166155.0</td>\n",
       "    </tr>\n",
       "    <tr>\n",
       "      <th>time_waiting</th>\n",
       "      <td>41546.0</td>\n",
       "      <td>311.823641</td>\n",
       "      <td>1175.373073</td>\n",
       "      <td>0.0</td>\n",
       "      <td>19.0</td>\n",
       "      <td>60.0</td>\n",
       "      <td>219.0</td>\n",
       "      <td>46474.0</td>\n",
       "    </tr>\n",
       "  </tbody>\n",
       "</table>\n",
       "</div>"
      ],
      "text/plain": [
       "                       count         mean          std  min   25%    50%  \\\n",
       "calls_count          41546.0    16.900424    59.749373  1.0   1.0    4.0   \n",
       "call_duration        41546.0  1009.769172  4064.106117  0.0   0.0  106.0   \n",
       "total_call_duration  41546.0  1321.592813  4785.978633  0.0  67.0  288.0   \n",
       "time_waiting         41546.0   311.823641  1175.373073  0.0  19.0   60.0   \n",
       "\n",
       "                        75%       max  \n",
       "calls_count            13.0    4817.0  \n",
       "call_duration         770.0  144395.0  \n",
       "total_call_duration  1104.0  166155.0  \n",
       "time_waiting          219.0   46474.0  "
      ]
     },
     "execution_count": 54,
     "metadata": {},
     "output_type": "execute_result"
    }
   ],
   "source": [
    "# veamos información general de las variables 'calls_count','call_duration' y 'total_call_duration'\n",
    "telecom_dataset_us_notna[variables].describe().T"
   ]
  },
  {
   "cell_type": "markdown",
   "id": "9794114e-c5f6-4e1d-ab4b-d3f20dfb09f6",
   "metadata": {},
   "source": [
    "Las diferencias tan grandes que existen entre los valores de las medias y las medianas es un indicativo que las variables presentan valores [outliers](https://careerfoundry.com/en/blog/data-analytics/how-to-find-outliers/#:~:text=Here%20are%20three%20techniques%20we%20can%20use%20to,using%20imputation%20as%20if%20they%20were%20missing%20values) y que la distribución es asimétrica hacia la derecha ([asimetría](https://www.rankia.com/diccionario/fondos-inversion/skewness\n",
    ") positiva); es decir, su cola es más larga hacia la derecha y la campana de la gráfica se inclina hacia la izquierda."
   ]
  },
  {
   "cell_type": "code",
   "execution_count": 55,
   "id": "30733904-3643-4542-9856-dc0e9f57915e",
   "metadata": {
    "scrolled": false
   },
   "outputs": [
    {
     "name": "stdout",
     "output_type": "stream",
     "text": [
      "Limite-inferior: -17.00     Limite-superior: 31.00\n"
     ]
    },
    {
     "data": {
      "image/png": "[encoded data removed]",
      "text/plain": [
       "<Figure size 1000x500 with 2 Axes>"
      ]
     },
     "metadata": {},
     "output_type": "display_data"
    },
    {
     "name": "stdout",
     "output_type": "stream",
     "text": [
      "Limite-inferior: -1155.00     Limite-superior: 1925.00\n"
     ]
    },
    {
     "data": {
      "image/png": "[encoded data removed]",
      "text/plain": [
       "<Figure size 1000x500 with 2 Axes>"
      ]
     },
     "metadata": {},
     "output_type": "display_data"
    },
    {
     "name": "stdout",
     "output_type": "stream",
     "text": [
      "Limite-inferior: -1488.50     Limite-superior: 2659.50\n"
     ]
    },
    {
     "data": {
      "image/png": "[encoded data removed]",
      "text/plain": [
       "<Figure size 1000x500 with 2 Axes>"
      ]
     },
     "metadata": {},
     "output_type": "display_data"
    },
    {
     "name": "stdout",
     "output_type": "stream",
     "text": [
      "Limite-inferior: -281.00     Limite-superior: 519.00\n"
     ]
    },
    {
     "data": {
      "image/png": "[encoded data removed]",
      "text/plain": [
       "<Figure size 1000x500 with 2 Axes>"
      ]
     },
     "metadata": {},
     "output_type": "display_data"
    }
   ],
   "source": [
    "# creamos los gráficos 'boxplot' que incluyen los valores teóricos de los bigotes\n",
    "for var in variables:\n",
    "    Q1 = telecom_dataset_us_notna[var].quantile(0.25)\n",
    "    Q3 = telecom_dataset_us_notna[var].quantile(0.75)\n",
    "    \n",
    "    # rango intercuantílico\n",
    "    IQR=Q3-Q1\n",
    "    # bigote superior Q3+1.5*IQR\n",
    "    # bigote inferior Q1-1.5*IQR\n",
    "    titulo=str(var)\n",
    "    print(f'Limite-inferior: {Q1-1.5*IQR:.2f}     Limite-superior: {Q3+1.5*IQR:.2f}')  \n",
    "    fig, ax = plt.subplots(2,sharex=True,\n",
    "                     gridspec_kw={\"height_ratios\": (.20, .80)},figsize=(10,5))\n",
    "    \n",
    "    # gráfico boxplot\n",
    "    sns.boxplot(x=var,data=telecom_dataset_us_notna,ax=ax[0],palette='YlGnBu_r',\\\n",
    "                   showmeans=True,meanprops={\"marker\": \"+\",\"markeredgecolor\": \"green\",\"markersize\": \"10\"})\n",
    "    ax[0].axvline(x=Q1-1.5*IQR,color='red')\n",
    "    ax[0].axvline(x=Q3+1.5*IQR,color='red')\n",
    "    ax[0].set(xlabel=None)\n",
    "    ax[0].set(title='Gráfico de distribución de '+titulo)\n",
    "    \n",
    "    # gráfico de distribución\n",
    "    sns.histplot(telecom_dataset_us_notna[var],bins=100,ax=ax[1])\n",
    "    plt.xlim(0,30*Q3)\n",
    "    #plt.title('Valores teóricos de los limites de '+titulo)\n",
    "    plt.show()"
   ]
  },
  {
   "cell_type": "markdown",
   "id": "1826868a-e33c-4741-b111-ae6e3fb655e7",
   "metadata": {},
   "source": [
    "De los gráficos anteriores podemos notar que las variables `'calls_count'`, `'call_duration'`, `'total_call_duration'` y `'time_waiting'` presentan distribuciones con asimetría positiva y muchos valores outliers."
   ]
  },
  {
   "cell_type": "code",
   "execution_count": 56,
   "id": "fdbb95ba-ff4b-4049-a62d-513ec7bbaf97",
   "metadata": {},
   "outputs": [],
   "source": [
    "# veamos ahora el comportamiento de las variables 'direction', 'internal' y 'is_missed_call'\n",
    "categoricas=['direction','internal','is_missed_call']"
   ]
  },
  {
   "cell_type": "code",
   "execution_count": 57,
   "id": "6746b6ef-591e-4f75-b384-36ef8ff3b0e1",
   "metadata": {},
   "outputs": [],
   "source": [
    "\"\"\"Creamos una función para graficar las variables categoricas\"\"\"\n",
    "def grafica_barras(data,variable):\n",
    "    \"\"\"\n",
    "    data=el dataframe que contiene los registros de los usuarios\n",
    "    variable=la variable categorica de la cual se van a obtener las frecuencias\n",
    "    \"\"\"\n",
    "    # agrupamos los datos y obtenemos las frecuencias\n",
    "    grouped=data[variable].value_counts(normalize=True)\n",
    "    grouped.name='frecuencia'\n",
    "    grouped=grouped.to_frame().reset_index()\n",
    "    \n",
    "    # creamos la grafica de barras\n",
    "    f,ax=plt.subplots(figsize=(4,4))\n",
    "    sns.barplot(data=grouped,x=variable,y='frecuencia')\n",
    "    \n",
    "    # For each bar: Place a label\n",
    "    for rect in ax.patches:\n",
    "        # Get X and Y placement of label from rect.\n",
    "        y_value = rect.get_height()\n",
    "        x_value = rect.get_x() + rect.get_width() / 2\n",
    "\n",
    "        # Number of points between bar and label\n",
    "        space = 3\n",
    "        # Vertical alignment 'va'\n",
    "\n",
    "        # Use Y value as label and format number with zero decimal place\n",
    "        label = \"{:.1%}\".format(y_value)\n",
    "\n",
    "        # Create annotation\n",
    "        ax.annotate(\n",
    "            label,                      # Use `label` as label\n",
    "            (x_value, y_value),         # Place label at end of the bar\n",
    "            xytext=(0, space),          # Vertically shift label by `space`\n",
    "            textcoords=\"offset points\", # Interpret `xytext` as offset in points\n",
    "            ha='center',                # Horizontally center label\n",
    "            va='bottom',rotation=45)\n",
    "    plt.ylim(0,grouped['frecuencia'].max()*1.3)\n",
    "    plt.title('Gráfico de '+variable)\n",
    "    plt.show()"
   ]
  },
  {
   "cell_type": "code",
   "execution_count": 58,
   "id": "5022b69a-1b05-462a-ba8b-3caee9f39d3d",
   "metadata": {},
   "outputs": [
    {
     "data": {
      "image/png": "[encoded data removed]",
      "text/plain": [
       "<Figure size 400x400 with 1 Axes>"
      ]
     },
     "metadata": {},
     "output_type": "display_data"
    }
   ],
   "source": [
    "# creamos la gráfica para 'direction'\n",
    "grafica_barras(data=telecom_dataset_us_notna,variable='direction')"
   ]
  },
  {
   "cell_type": "markdown",
   "id": "b06b3707-78f2-491c-b07f-039e4e2f1350",
   "metadata": {},
   "source": [
    "Tenemos que un 69.4% de las llamadas son salientes y solo un 30.6% son entrantes."
   ]
  },
  {
   "cell_type": "code",
   "execution_count": 59,
   "id": "87fe3f55-3e24-4fdb-a49b-3207c46f7b82",
   "metadata": {},
   "outputs": [
    {
     "data": {
      "image/png": "[encoded data removed]",
      "text/plain": [
       "<Figure size 400x400 with 1 Axes>"
      ]
     },
     "metadata": {},
     "output_type": "display_data"
    }
   ],
   "source": [
    "# creamos la gráfica para 'internal'\n",
    "grafica_barras(data=telecom_dataset_us_notna,variable='internal')"
   ]
  },
  {
   "cell_type": "markdown",
   "id": "76d99b46-ce19-4924-b008-556a0519c7ad",
   "metadata": {},
   "source": [
    "Solo 12.8% de las llamadas son realizadas entre los operadores."
   ]
  },
  {
   "cell_type": "code",
   "execution_count": 60,
   "id": "909579e7-cac3-4d05-bbe9-520b5d61cf62",
   "metadata": {},
   "outputs": [
    {
     "data": {
      "image/png": "[encoded data removed]",
      "text/plain": [
       "<Figure size 400x400 with 1 Axes>"
      ]
     },
     "metadata": {},
     "output_type": "display_data"
    }
   ],
   "source": [
    "# creamos la gráfica para 'is_missed_call'\n",
    "grafica_barras(data=telecom_dataset_us_notna,variable='is_missed_call')"
   ]
  },
  {
   "cell_type": "markdown",
   "id": "ea3c1ddf-ea57-4a86-a594-c8af847d728f",
   "metadata": {},
   "source": [
    "El 34% de las llamadas son llamadas perdidas."
   ]
  },
  {
   "cell_type": "markdown",
   "id": "d1ee7832-4094-4db0-b0bb-3d22acd0b083",
   "metadata": {},
   "source": [
    "[Volver a contenidos](#contenidos)\n",
    "## Estadísticas para los operadores  \n",
    "Realizaremos una agrupación en el dataset `'telecom_dataset_us_notna'` por operador y obtendremos estadísticas acerca de las llamadas."
   ]
  },
  {
   "cell_type": "code",
   "execution_count": 61,
   "id": "1cca0b1a-2c8f-41fe-a811-a2c9232f9357",
   "metadata": {},
   "outputs": [
    {
     "data": {
      "text/html": [
       "<div>\n",
       "<style scoped>\n",
       "    .dataframe tbody tr th:only-of-type {\n",
       "        vertical-align: middle;\n",
       "    }\n",
       "\n",
       "    .dataframe tbody tr th {\n",
       "        vertical-align: top;\n",
       "    }\n",
       "\n",
       "    .dataframe thead th {\n",
       "        text-align: right;\n",
       "    }\n",
       "</style>\n",
       "<table border=\"1\" class=\"dataframe\">\n",
       "  <thead>\n",
       "    <tr style=\"text-align: right;\">\n",
       "      <th></th>\n",
       "      <th>operator_id</th>\n",
       "      <th>direction</th>\n",
       "      <th>calls_count</th>\n",
       "      <th>call_duration</th>\n",
       "      <th>is_missed_call</th>\n",
       "      <th>time_waiting</th>\n",
       "      <th>mean_duration</th>\n",
       "      <th>mean_waiting</th>\n",
       "    </tr>\n",
       "  </thead>\n",
       "  <tbody>\n",
       "    <tr>\n",
       "      <th>758</th>\n",
       "      <td>900746</td>\n",
       "      <td>in</td>\n",
       "      <td>26</td>\n",
       "      <td>1471</td>\n",
       "      <td>2</td>\n",
       "      <td>611</td>\n",
       "      <td>56.576923</td>\n",
       "      <td>23.500000</td>\n",
       "    </tr>\n",
       "    <tr>\n",
       "      <th>468</th>\n",
       "      <td>960620</td>\n",
       "      <td>out</td>\n",
       "      <td>58</td>\n",
       "      <td>2757</td>\n",
       "      <td>8</td>\n",
       "      <td>1052</td>\n",
       "      <td>47.534483</td>\n",
       "      <td>18.137931</td>\n",
       "    </tr>\n",
       "    <tr>\n",
       "      <th>869</th>\n",
       "      <td>937808</td>\n",
       "      <td>in</td>\n",
       "      <td>127</td>\n",
       "      <td>12866</td>\n",
       "      <td>1</td>\n",
       "      <td>1371</td>\n",
       "      <td>101.307087</td>\n",
       "      <td>10.795276</td>\n",
       "    </tr>\n",
       "    <tr>\n",
       "      <th>1585</th>\n",
       "      <td>905470</td>\n",
       "      <td>out</td>\n",
       "      <td>3</td>\n",
       "      <td>94</td>\n",
       "      <td>0</td>\n",
       "      <td>10</td>\n",
       "      <td>31.333333</td>\n",
       "      <td>3.333333</td>\n",
       "    </tr>\n",
       "    <tr>\n",
       "      <th>374</th>\n",
       "      <td>919456</td>\n",
       "      <td>out</td>\n",
       "      <td>1147</td>\n",
       "      <td>44414</td>\n",
       "      <td>12</td>\n",
       "      <td>23210</td>\n",
       "      <td>38.721883</td>\n",
       "      <td>20.235397</td>\n",
       "    </tr>\n",
       "  </tbody>\n",
       "</table>\n",
       "</div>"
      ],
      "text/plain": [
       "      operator_id direction  calls_count  call_duration  is_missed_call  \\\n",
       "758        900746        in           26           1471               2   \n",
       "468        960620       out           58           2757               8   \n",
       "869        937808        in          127          12866               1   \n",
       "1585       905470       out            3             94               0   \n",
       "374        919456       out         1147          44414              12   \n",
       "\n",
       "      time_waiting  mean_duration  mean_waiting  \n",
       "758            611      56.576923     23.500000  \n",
       "468           1052      47.534483     18.137931  \n",
       "869           1371     101.307087     10.795276  \n",
       "1585            10      31.333333      3.333333  \n",
       "374          23210      38.721883     20.235397  "
      ]
     },
     "execution_count": 61,
     "metadata": {},
     "output_type": "execute_result"
    }
   ],
   "source": [
    "# para todas las llamadas agrupamos por operador\n",
    "calls_by_operator=telecom_dataset_us_notna[['operator_id','direction','calls_count','call_duration','is_missed_call','time_waiting']]\\\n",
    "                        .groupby(['operator_id','direction']).sum()\\\n",
    "                        .sort_values(['is_missed_call','time_waiting'],ascending=False).reset_index()\n",
    "\n",
    "# obtenemos la duracion promedio por llamada\n",
    "calls_by_operator['mean_duration']=calls_by_operator['call_duration']/calls_by_operator['calls_count']\n",
    "\n",
    "# obtenemos el tiempo promedio de espera por llamada\n",
    "calls_by_operator['mean_waiting']=calls_by_operator['time_waiting']/calls_by_operator['calls_count']\n",
    "calls_by_operator.sample(5)"
   ]
  },
  {
   "cell_type": "markdown",
   "id": "0f750276",
   "metadata": {},
   "source": [
    "[Volver a contenidos](#contenidos)\n",
    "### Distribución de las llamadas entrantes pérdidas"
   ]
  },
  {
   "cell_type": "code",
   "execution_count": 62,
   "id": "a6ac63d6",
   "metadata": {},
   "outputs": [
    {
     "data": {
      "text/html": [
       "<div>\n",
       "<style scoped>\n",
       "    .dataframe tbody tr th:only-of-type {\n",
       "        vertical-align: middle;\n",
       "    }\n",
       "\n",
       "    .dataframe tbody tr th {\n",
       "        vertical-align: top;\n",
       "    }\n",
       "\n",
       "    .dataframe thead th {\n",
       "        text-align: right;\n",
       "    }\n",
       "</style>\n",
       "<table border=\"1\" class=\"dataframe\">\n",
       "  <thead>\n",
       "    <tr style=\"text-align: right;\">\n",
       "      <th></th>\n",
       "      <th>operator_id</th>\n",
       "      <th>calls_count</th>\n",
       "      <th>call_duration</th>\n",
       "      <th>is_missed_call</th>\n",
       "      <th>time_waiting</th>\n",
       "      <th>mean_duration</th>\n",
       "      <th>mean_waiting</th>\n",
       "    </tr>\n",
       "  </thead>\n",
       "  <tbody>\n",
       "    <tr>\n",
       "      <th>count</th>\n",
       "      <td>754.000000</td>\n",
       "      <td>754.000000</td>\n",
       "      <td>754.000000</td>\n",
       "      <td>754.000000</td>\n",
       "      <td>754.000000</td>\n",
       "      <td>754.000000</td>\n",
       "      <td>754.000000</td>\n",
       "    </tr>\n",
       "    <tr>\n",
       "      <th>mean</th>\n",
       "      <td>923704.400531</td>\n",
       "      <td>124.405836</td>\n",
       "      <td>12631.314324</td>\n",
       "      <td>0.908488</td>\n",
       "      <td>1635.656499</td>\n",
       "      <td>102.161798</td>\n",
       "      <td>17.491612</td>\n",
       "    </tr>\n",
       "    <tr>\n",
       "      <th>std</th>\n",
       "      <td>22646.733795</td>\n",
       "      <td>356.450649</td>\n",
       "      <td>34048.272424</td>\n",
       "      <td>2.405363</td>\n",
       "      <td>4637.607919</td>\n",
       "      <td>103.592874</td>\n",
       "      <td>12.171988</td>\n",
       "    </tr>\n",
       "    <tr>\n",
       "      <th>min</th>\n",
       "      <td>879896.000000</td>\n",
       "      <td>1.000000</td>\n",
       "      <td>1.000000</td>\n",
       "      <td>0.000000</td>\n",
       "      <td>1.000000</td>\n",
       "      <td>1.000000</td>\n",
       "      <td>0.683673</td>\n",
       "    </tr>\n",
       "    <tr>\n",
       "      <th>25%</th>\n",
       "      <td>905153.000000</td>\n",
       "      <td>4.000000</td>\n",
       "      <td>226.250000</td>\n",
       "      <td>0.000000</td>\n",
       "      <td>62.000000</td>\n",
       "      <td>50.153237</td>\n",
       "      <td>9.398782</td>\n",
       "    </tr>\n",
       "    <tr>\n",
       "      <th>50%</th>\n",
       "      <td>924580.000000</td>\n",
       "      <td>17.000000</td>\n",
       "      <td>1480.500000</td>\n",
       "      <td>0.000000</td>\n",
       "      <td>255.000000</td>\n",
       "      <td>86.291667</td>\n",
       "      <td>14.430502</td>\n",
       "    </tr>\n",
       "    <tr>\n",
       "      <th>75%</th>\n",
       "      <td>940457.500000</td>\n",
       "      <td>78.750000</td>\n",
       "      <td>8097.750000</td>\n",
       "      <td>1.000000</td>\n",
       "      <td>1064.250000</td>\n",
       "      <td>126.035088</td>\n",
       "      <td>21.838889</td>\n",
       "    </tr>\n",
       "    <tr>\n",
       "      <th>max</th>\n",
       "      <td>973286.000000</td>\n",
       "      <td>4766.000000</td>\n",
       "      <td>397079.000000</td>\n",
       "      <td>28.000000</td>\n",
       "      <td>52875.000000</td>\n",
       "      <td>1799.000000</td>\n",
       "      <td>115.500000</td>\n",
       "    </tr>\n",
       "  </tbody>\n",
       "</table>\n",
       "</div>"
      ],
      "text/plain": [
       "         operator_id  calls_count  call_duration  is_missed_call  \\\n",
       "count     754.000000   754.000000     754.000000      754.000000   \n",
       "mean   923704.400531   124.405836   12631.314324        0.908488   \n",
       "std     22646.733795   356.450649   34048.272424        2.405363   \n",
       "min    879896.000000     1.000000       1.000000        0.000000   \n",
       "25%    905153.000000     4.000000     226.250000        0.000000   \n",
       "50%    924580.000000    17.000000    1480.500000        0.000000   \n",
       "75%    940457.500000    78.750000    8097.750000        1.000000   \n",
       "max    973286.000000  4766.000000  397079.000000       28.000000   \n",
       "\n",
       "       time_waiting  mean_duration  mean_waiting  \n",
       "count    754.000000     754.000000    754.000000  \n",
       "mean    1635.656499     102.161798     17.491612  \n",
       "std     4637.607919     103.592874     12.171988  \n",
       "min        1.000000       1.000000      0.683673  \n",
       "25%       62.000000      50.153237      9.398782  \n",
       "50%      255.000000      86.291667     14.430502  \n",
       "75%     1064.250000     126.035088     21.838889  \n",
       "max    52875.000000    1799.000000    115.500000  "
      ]
     },
     "execution_count": 62,
     "metadata": {},
     "output_type": "execute_result"
    }
   ],
   "source": [
    "# obtengamos información general del set de datos de las llamadas entrantes pérdidas\n",
    "calls_in_missed_operator=calls_by_operator.query('direction==\"in\"')\n",
    "calls_in_missed_operator.describe()"
   ]
  },
  {
   "cell_type": "code",
   "execution_count": 63,
   "id": "e8302c31",
   "metadata": {},
   "outputs": [
    {
     "data": {
      "text/plain": [
       "array([ 2.  ,  4.35,  5.  , 11.47])"
      ]
     },
     "execution_count": 63,
     "metadata": {},
     "output_type": "execute_result"
    }
   ],
   "source": [
    "# obtenemos percentiles para la cantidad de llamadas entrantes pérdidas\n",
    "np.percentile(calls_in_missed_operator['is_missed_call'],[90,95,96,99])"
   ]
  },
  {
   "cell_type": "code",
   "execution_count": 64,
   "id": "b6141948",
   "metadata": {},
   "outputs": [
    {
     "data": {
      "image/png": "[encoded data removed]",
      "text/plain": [
       "<Figure size 600x500 with 1 Axes>"
      ]
     },
     "metadata": {},
     "output_type": "display_data"
    }
   ],
   "source": [
    "# veamos la distribución de las llamadas entrantes pérdidas\n",
    "fig,ax=plt.subplots(figsize=(6,5))\n",
    "sns.histplot(calls_in_missed_operator['is_missed_call'],bins=30)\n",
    "plt.xlabel('count_is_missed_call')\n",
    "plt.ylabel('count_operator')\n",
    "plt.title('Distribución del número de llamadas entrantes pérdidas')\n",
    "plt.show()"
   ]
  },
  {
   "cell_type": "markdown",
   "id": "93196330",
   "metadata": {},
   "source": [
    "Podemos observar que hay muy pocos operadores con muchas llamadas entrantes pérdidas. La mayoría de los operadores tienen pocas llamadas entrantes pérdidas. **Definamos seis como la cantidad mínima de llamadas entrantes pérdidas para considerar a un operador ineficiente, el 96% de los operadores tiene a lo más cinco llamadas pérdidas.**"
   ]
  },
  {
   "cell_type": "markdown",
   "id": "449f4876",
   "metadata": {},
   "source": [
    "[Volver a contenidos](#contenidos)\n",
    "### Distribución del tiempo promedio de espera para las llamadas entrantes"
   ]
  },
  {
   "cell_type": "code",
   "execution_count": 65,
   "id": "69eeb502",
   "metadata": {},
   "outputs": [
    {
     "data": {
      "text/plain": [
       "array([33.87011583, 41.57923977, 55.38205128])"
      ]
     },
     "execution_count": 65,
     "metadata": {},
     "output_type": "execute_result"
    }
   ],
   "source": [
    "# obtenemos percentiles para el tiempo promedio de espera para las llamadas entrantes\n",
    "np.percentile(calls_in_missed_operator['mean_waiting'],[90,95,99])"
   ]
  },
  {
   "cell_type": "code",
   "execution_count": 66,
   "id": "5bab7c7c",
   "metadata": {},
   "outputs": [
    {
     "data": {
      "image/png": "[encoded data removed]",
      "text/plain": [
       "<Figure size 600x500 with 1 Axes>"
      ]
     },
     "metadata": {},
     "output_type": "display_data"
    }
   ],
   "source": [
    "# veamos la distribución del tiempo promedio de espera para las llamadas entrantes\n",
    "fig,ax=plt.subplots(figsize=(6,5))\n",
    "sns.histplot(calls_in_missed_operator['mean_waiting'],bins=30)\n",
    "plt.title('Distribución del tiempo promedio de espera para las llamadas entrantes')\n",
    "plt.show()"
   ]
  },
  {
   "cell_type": "markdown",
   "id": "90c35908",
   "metadata": {},
   "source": [
    "Podemos observar que hay muy pocos operadores cuyo tiempo promedio de espera para las llamadas entrantes es mayor a 41.57. **Definamos a los operadores cuyo tiempo promedio de espera es mayor a 41.57 como un operador ineficiente.**"
   ]
  },
  {
   "cell_type": "markdown",
   "id": "0dfe1bd9",
   "metadata": {},
   "source": [
    "Con estas dos condiciones anteriores:\n",
    "- **Cantidad de llamadas entrantes perdidas mayor a cinco**\n",
    "- **Tiempo promedio de espera mayor a 41.57**\n",
    "\n",
    "vamos a **considerar a un operador como ineficiente.**"
   ]
  },
  {
   "cell_type": "markdown",
   "id": "63d3211c",
   "metadata": {},
   "source": [
    "[Volver a contenidos](#contenidos)\n",
    "### Distribución de las llamadas salientes"
   ]
  },
  {
   "cell_type": "code",
   "execution_count": 67,
   "id": "566b9820",
   "metadata": {},
   "outputs": [
    {
     "data": {
      "text/html": [
       "<div>\n",
       "<style scoped>\n",
       "    .dataframe tbody tr th:only-of-type {\n",
       "        vertical-align: middle;\n",
       "    }\n",
       "\n",
       "    .dataframe tbody tr th {\n",
       "        vertical-align: top;\n",
       "    }\n",
       "\n",
       "    .dataframe thead th {\n",
       "        text-align: right;\n",
       "    }\n",
       "</style>\n",
       "<table border=\"1\" class=\"dataframe\">\n",
       "  <thead>\n",
       "    <tr style=\"text-align: right;\">\n",
       "      <th></th>\n",
       "      <th>operator_id</th>\n",
       "      <th>calls_count</th>\n",
       "      <th>call_duration</th>\n",
       "      <th>is_missed_call</th>\n",
       "      <th>time_waiting</th>\n",
       "      <th>mean_duration</th>\n",
       "      <th>mean_waiting</th>\n",
       "    </tr>\n",
       "  </thead>\n",
       "  <tbody>\n",
       "    <tr>\n",
       "      <th>count</th>\n",
       "      <td>882.000000</td>\n",
       "      <td>882.000000</td>\n",
       "      <td>8.820000e+02</td>\n",
       "      <td>882.000000</td>\n",
       "      <td>8.820000e+02</td>\n",
       "      <td>882.000000</td>\n",
       "      <td>882.000000</td>\n",
       "    </tr>\n",
       "    <tr>\n",
       "      <th>mean</th>\n",
       "      <td>925658.340136</td>\n",
       "      <td>689.731293</td>\n",
       "      <td>3.676628e+04</td>\n",
       "      <td>15.221088</td>\n",
       "      <td>1.328995e+04</td>\n",
       "      <td>61.727551</td>\n",
       "      <td>15.007958</td>\n",
       "    </tr>\n",
       "    <tr>\n",
       "      <th>std</th>\n",
       "      <td>22862.558731</td>\n",
       "      <td>3122.953946</td>\n",
       "      <td>1.890289e+05</td>\n",
       "      <td>18.549008</td>\n",
       "      <td>7.093113e+04</td>\n",
       "      <td>81.385731</td>\n",
       "      <td>6.755690</td>\n",
       "    </tr>\n",
       "    <tr>\n",
       "      <th>min</th>\n",
       "      <td>879896.000000</td>\n",
       "      <td>1.000000</td>\n",
       "      <td>0.000000e+00</td>\n",
       "      <td>0.000000</td>\n",
       "      <td>0.000000e+00</td>\n",
       "      <td>0.000000</td>\n",
       "      <td>0.000000</td>\n",
       "    </tr>\n",
       "    <tr>\n",
       "      <th>25%</th>\n",
       "      <td>906394.500000</td>\n",
       "      <td>11.000000</td>\n",
       "      <td>3.470000e+02</td>\n",
       "      <td>2.000000</td>\n",
       "      <td>1.330000e+02</td>\n",
       "      <td>21.478459</td>\n",
       "      <td>10.253906</td>\n",
       "    </tr>\n",
       "    <tr>\n",
       "      <th>50%</th>\n",
       "      <td>924959.000000</td>\n",
       "      <td>90.000000</td>\n",
       "      <td>5.773500e+03</td>\n",
       "      <td>8.000000</td>\n",
       "      <td>1.314500e+03</td>\n",
       "      <td>45.719303</td>\n",
       "      <td>15.348039</td>\n",
       "    </tr>\n",
       "    <tr>\n",
       "      <th>75%</th>\n",
       "      <td>943630.000000</td>\n",
       "      <td>597.250000</td>\n",
       "      <td>3.134400e+04</td>\n",
       "      <td>21.000000</td>\n",
       "      <td>1.025650e+04</td>\n",
       "      <td>76.291820</td>\n",
       "      <td>19.245915</td>\n",
       "    </tr>\n",
       "    <tr>\n",
       "      <th>max</th>\n",
       "      <td>973120.000000</td>\n",
       "      <td>58977.000000</td>\n",
       "      <td>4.304731e+06</td>\n",
       "      <td>117.000000</td>\n",
       "      <td>1.431696e+06</td>\n",
       "      <td>1306.000000</td>\n",
       "      <td>60.000000</td>\n",
       "    </tr>\n",
       "  </tbody>\n",
       "</table>\n",
       "</div>"
      ],
      "text/plain": [
       "         operator_id   calls_count  call_duration  is_missed_call  \\\n",
       "count     882.000000    882.000000   8.820000e+02      882.000000   \n",
       "mean   925658.340136    689.731293   3.676628e+04       15.221088   \n",
       "std     22862.558731   3122.953946   1.890289e+05       18.549008   \n",
       "min    879896.000000      1.000000   0.000000e+00        0.000000   \n",
       "25%    906394.500000     11.000000   3.470000e+02        2.000000   \n",
       "50%    924959.000000     90.000000   5.773500e+03        8.000000   \n",
       "75%    943630.000000    597.250000   3.134400e+04       21.000000   \n",
       "max    973120.000000  58977.000000   4.304731e+06      117.000000   \n",
       "\n",
       "       time_waiting  mean_duration  mean_waiting  \n",
       "count  8.820000e+02     882.000000    882.000000  \n",
       "mean   1.328995e+04      61.727551     15.007958  \n",
       "std    7.093113e+04      81.385731      6.755690  \n",
       "min    0.000000e+00       0.000000      0.000000  \n",
       "25%    1.330000e+02      21.478459     10.253906  \n",
       "50%    1.314500e+03      45.719303     15.348039  \n",
       "75%    1.025650e+04      76.291820     19.245915  \n",
       "max    1.431696e+06    1306.000000     60.000000  "
      ]
     },
     "execution_count": 67,
     "metadata": {},
     "output_type": "execute_result"
    }
   ],
   "source": [
    "# obtengamos información general del set de datos de las llamadas salientes\n",
    "calls_out_operator=calls_by_operator.query('direction==\"out\"')\n",
    "calls_out_operator.describe()"
   ]
  },
  {
   "cell_type": "code",
   "execution_count": 68,
   "id": "f0473e95",
   "metadata": {},
   "outputs": [
    {
     "data": {
      "text/plain": [
       "array([ 1.,  3.,  5.,  8., 11.])"
      ]
     },
     "execution_count": 68,
     "metadata": {},
     "output_type": "execute_result"
    }
   ],
   "source": [
    "# obtenemos percentiles para la cantidad de llamadas salientes\n",
    "np.percentile(calls_out_operator['calls_count'],[5,10,15,20,25])"
   ]
  },
  {
   "cell_type": "code",
   "execution_count": 69,
   "id": "d3110046",
   "metadata": {},
   "outputs": [
    {
     "name": "stdout",
     "output_type": "stream",
     "text": [
      "Limite-inferior: -868.38     Limite-superior: 1476.62\n"
     ]
    },
    {
     "data": {
      "image/png": "[encoded data removed]",
      "text/plain": [
       "<Figure size 1000x500 with 2 Axes>"
      ]
     },
     "metadata": {},
     "output_type": "display_data"
    }
   ],
   "source": [
    "# veamos la distribución de las llamadas salientes\n",
    "\n",
    "Q1 = calls_out_operator['calls_count'].quantile(0.25)\n",
    "Q3 = calls_out_operator['calls_count'].quantile(0.75)\n",
    "    \n",
    "# rango intercuantílico\n",
    "IQR=Q3-Q1\n",
    "# bigote superior Q3+1.5*IQR\n",
    "# bigote inferior Q1-1.5*IQR\n",
    "\n",
    "print(f'Limite-inferior: {Q1-1.5*IQR:.2f}     Limite-superior: {Q3+1.5*IQR:.2f}')  \n",
    "fig, ax = plt.subplots(2,sharex=True,\n",
    "                gridspec_kw={\"height_ratios\": (.20, .80)},figsize=(10,5))\n",
    "    \n",
    "# gráfico boxplot\n",
    "sns.boxplot(x='calls_count',data=calls_out_operator,ax=ax[0],palette='YlGnBu_r',\\\n",
    "                   showmeans=True,meanprops={\"marker\": \"+\",\"markeredgecolor\": \"green\",\"markersize\": \"10\"})\n",
    "ax[0].axvline(x=Q1-1.5*IQR,color='red')\n",
    "ax[0].axvline(x=Q3+1.5*IQR,color='red')\n",
    "ax[0].set(xlabel=None)\n",
    "ax[0].set(title='Distribución del número de llamadas salientes')\n",
    "    \n",
    "# gráfico de distribución\n",
    "sns.histplot(calls_out_operator['calls_count'],bins=100,ax=ax[1])\n",
    "plt.xlim(0,30*Q3)\n",
    "plt.show()"
   ]
  },
  {
   "cell_type": "markdown",
   "id": "9712f3b2",
   "metadata": {},
   "source": [
    "Podemos observar en el gráfico anterior que hay muy pocos operadores que realizan muchas llamadas salientes. Un 15% de los operadores realizan a lo más cinco llamadas (llamadas salientes).\n",
    "\n",
    "La distribución de las llamadas salientes para los operadores presenta valores outliers."
   ]
  },
  {
   "cell_type": "markdown",
   "id": "268fcce8",
   "metadata": {},
   "source": [
    "**Hagamos que cinco sea el número máximo de llamadas salientes realizadas para considerar a un operador ineficiente, solo el 15% de los operadores realizan a lo más cinco llamadas.**"
   ]
  },
  {
   "cell_type": "markdown",
   "id": "6ac59e13",
   "metadata": {},
   "source": [
    "Finalmente vamos a considerar a un operador ineficiente si cumple cualquiera de las siguientes dos condiciones:\n",
    "1. **Cantidad de llamadas entrantes perdidas mayor a cinco y tiempo promedio de espera mayor a 41.57**\n",
    "1. **Tiene a los más cinco llamadas salientes**"
   ]
  },
  {
   "cell_type": "markdown",
   "id": "54acb3e9",
   "metadata": {},
   "source": [
    "Etiquetemos a los operadores ineficientes en el set de datos `calls_by_operator`. Para ello vamos a crear dos columnas nuevas, una para cada condición."
   ]
  },
  {
   "cell_type": "code",
   "execution_count": 70,
   "id": "3c4829a6",
   "metadata": {},
   "outputs": [],
   "source": [
    "# creamos una función para marcar a los operadores ineficientes según las llamadas salientes realizadas\n",
    "def operator_inefficient_calls_out(row):\n",
    "    \"\"\"\n",
    "    Esta función crea una columna para marcar a los operadores ineficientes en llamadas salientes\n",
    "    data=el dataframe que contiene las estadísticas para los operadores y todo tipo de llamadas\n",
    "    \"\"\"\n",
    "    \n",
    "    condicion_1=calls_count_out\n",
    "    if row['direction']==\"out\" and row['calls_count']<condicion_1:\n",
    "        eficiencia='inefficient'\n",
    "    else:\n",
    "        eficiencia='efficient'\n",
    "    return eficiencia"
   ]
  },
  {
   "cell_type": "code",
   "execution_count": 71,
   "id": "4e19a01a",
   "metadata": {},
   "outputs": [],
   "source": [
    "# definimos la cantidad de llamadas salientes para considerar a un operador como 'ineficiente', es ineficiente si es menor a\n",
    "calls_count_out=6"
   ]
  },
  {
   "cell_type": "code",
   "execution_count": 72,
   "id": "4d4f1a9b",
   "metadata": {},
   "outputs": [],
   "source": [
    "# marcamos a los operadores según la cantidad de llamadas salientes realizadas\n",
    "calls_by_operator['calls_count_out']=calls_by_operator.apply(operator_inefficient_calls_out,axis=1)"
   ]
  },
  {
   "cell_type": "code",
   "execution_count": 73,
   "id": "a8d66866",
   "metadata": {},
   "outputs": [
    {
     "data": {
      "text/html": [
       "<div>\n",
       "<style scoped>\n",
       "    .dataframe tbody tr th:only-of-type {\n",
       "        vertical-align: middle;\n",
       "    }\n",
       "\n",
       "    .dataframe tbody tr th {\n",
       "        vertical-align: top;\n",
       "    }\n",
       "\n",
       "    .dataframe thead th {\n",
       "        text-align: right;\n",
       "    }\n",
       "</style>\n",
       "<table border=\"1\" class=\"dataframe\">\n",
       "  <thead>\n",
       "    <tr style=\"text-align: right;\">\n",
       "      <th></th>\n",
       "      <th>operator_id</th>\n",
       "      <th>direction</th>\n",
       "      <th>calls_count</th>\n",
       "      <th>call_duration</th>\n",
       "      <th>is_missed_call</th>\n",
       "      <th>time_waiting</th>\n",
       "      <th>mean_duration</th>\n",
       "      <th>mean_waiting</th>\n",
       "      <th>calls_count_out</th>\n",
       "    </tr>\n",
       "  </thead>\n",
       "  <tbody>\n",
       "    <tr>\n",
       "      <th>378</th>\n",
       "      <td>944220</td>\n",
       "      <td>in</td>\n",
       "      <td>265</td>\n",
       "      <td>35981</td>\n",
       "      <td>12</td>\n",
       "      <td>9558</td>\n",
       "      <td>135.777358</td>\n",
       "      <td>36.067925</td>\n",
       "      <td>efficient</td>\n",
       "    </tr>\n",
       "    <tr>\n",
       "      <th>707</th>\n",
       "      <td>955082</td>\n",
       "      <td>out</td>\n",
       "      <td>14</td>\n",
       "      <td>148</td>\n",
       "      <td>3</td>\n",
       "      <td>69</td>\n",
       "      <td>10.571429</td>\n",
       "      <td>4.928571</td>\n",
       "      <td>efficient</td>\n",
       "    </tr>\n",
       "    <tr>\n",
       "      <th>725</th>\n",
       "      <td>907502</td>\n",
       "      <td>in</td>\n",
       "      <td>242</td>\n",
       "      <td>12136</td>\n",
       "      <td>2</td>\n",
       "      <td>4855</td>\n",
       "      <td>50.148760</td>\n",
       "      <td>20.061983</td>\n",
       "      <td>efficient</td>\n",
       "    </tr>\n",
       "    <tr>\n",
       "      <th>1148</th>\n",
       "      <td>884412</td>\n",
       "      <td>in</td>\n",
       "      <td>18</td>\n",
       "      <td>1820</td>\n",
       "      <td>0</td>\n",
       "      <td>750</td>\n",
       "      <td>101.111111</td>\n",
       "      <td>41.666667</td>\n",
       "      <td>efficient</td>\n",
       "    </tr>\n",
       "    <tr>\n",
       "      <th>1370</th>\n",
       "      <td>899892</td>\n",
       "      <td>in</td>\n",
       "      <td>3</td>\n",
       "      <td>191</td>\n",
       "      <td>0</td>\n",
       "      <td>95</td>\n",
       "      <td>63.666667</td>\n",
       "      <td>31.666667</td>\n",
       "      <td>efficient</td>\n",
       "    </tr>\n",
       "  </tbody>\n",
       "</table>\n",
       "</div>"
      ],
      "text/plain": [
       "      operator_id direction  calls_count  call_duration  is_missed_call  \\\n",
       "378        944220        in          265          35981              12   \n",
       "707        955082       out           14            148               3   \n",
       "725        907502        in          242          12136               2   \n",
       "1148       884412        in           18           1820               0   \n",
       "1370       899892        in            3            191               0   \n",
       "\n",
       "      time_waiting  mean_duration  mean_waiting calls_count_out  \n",
       "378           9558     135.777358     36.067925       efficient  \n",
       "707             69      10.571429      4.928571       efficient  \n",
       "725           4855      50.148760     20.061983       efficient  \n",
       "1148           750     101.111111     41.666667       efficient  \n",
       "1370            95      63.666667     31.666667       efficient  "
      ]
     },
     "execution_count": 73,
     "metadata": {},
     "output_type": "execute_result"
    }
   ],
   "source": [
    "# mostramos parte de los datos\n",
    "calls_by_operator.sample(5)"
   ]
  },
  {
   "cell_type": "code",
   "execution_count": 74,
   "id": "83ccbaad",
   "metadata": {},
   "outputs": [],
   "source": [
    "\"\"\" creamos una función para marcar a los operadores ineficientes según las llamadas entrantes perdidas y \n",
    "tiempo promedio de espera \"\"\"\n",
    "def operator_inefficient_calls_missed(row):\n",
    "    \"\"\"\n",
    "    Esta función crea una columna para marcar a los operadores ineficientes en llamadas entrantes perdidas y \n",
    "    tiempo promedio de espera\n",
    "    data=el dataframe que contiene las estadísticas para los operadores y todo tipo de llamadas\n",
    "    \"\"\"\n",
    "    \n",
    "    # condicion de cantidad de llamadas perdidas\n",
    "    condicion_1=calls_in_missed\n",
    "    \n",
    "    # condicion de tiempo promedio de espera\n",
    "    condicion_2=mean_time_waiting\n",
    "    \n",
    "    if row['direction']==\"in\" and row['is_missed_call']>condicion_1 and row['mean_waiting']>condicion_2:\n",
    "        eficiencia='inefficient'\n",
    "    else:\n",
    "        eficiencia='efficient'\n",
    "    return eficiencia"
   ]
  },
  {
   "cell_type": "code",
   "execution_count": 75,
   "id": "60921c0d",
   "metadata": {},
   "outputs": [],
   "source": [
    "# definimos la cantidad de llamadas perdidas para un operador ineficiente, es ineficiente si es mayor a\n",
    "calls_in_missed=5\n",
    "\n",
    "# definimos el tiempo promedio de espera para un operador ineficiente, es ineficiente si es mayor a\n",
    "mean_time_waiting=41.57"
   ]
  },
  {
   "cell_type": "code",
   "execution_count": 76,
   "id": "c4b234fa",
   "metadata": {},
   "outputs": [],
   "source": [
    "# marcamos a los operadores según la cantidad de llamadas entrantes perdidas y el tiempo promedio de espera\n",
    "calls_by_operator['calls_missed_time_waiting']=calls_by_operator.apply(operator_inefficient_calls_missed,axis=1)"
   ]
  },
  {
   "cell_type": "code",
   "execution_count": 77,
   "id": "660edca8",
   "metadata": {},
   "outputs": [],
   "source": [
    "# finalmente creamos una función para saber si un operador es eficiente o ineficiente\n",
    "def efficient(condicion_1,condicion_2):\n",
    "    return True if condicion_1=='efficient' and condicion_2=='efficient' else False"
   ]
  },
  {
   "cell_type": "code",
   "execution_count": 78,
   "id": "73a97b2c",
   "metadata": {},
   "outputs": [],
   "source": [
    "# creamos una columna que nos diga si un operador es eficiente o no para cualquiera de las dos condiciones\n",
    "calls_by_operator['eficiente']=calls_by_operator.apply(lambda x:efficient(x['calls_count_out'],x['calls_missed_time_waiting']),axis=1)"
   ]
  },
  {
   "cell_type": "code",
   "execution_count": 79,
   "id": "91e11d87",
   "metadata": {},
   "outputs": [
    {
     "data": {
      "text/html": [
       "<div>\n",
       "<style scoped>\n",
       "    .dataframe tbody tr th:only-of-type {\n",
       "        vertical-align: middle;\n",
       "    }\n",
       "\n",
       "    .dataframe tbody tr th {\n",
       "        vertical-align: top;\n",
       "    }\n",
       "\n",
       "    .dataframe thead th {\n",
       "        text-align: right;\n",
       "    }\n",
       "</style>\n",
       "<table border=\"1\" class=\"dataframe\">\n",
       "  <thead>\n",
       "    <tr style=\"text-align: right;\">\n",
       "      <th></th>\n",
       "      <th>operator_id</th>\n",
       "      <th>direction</th>\n",
       "      <th>calls_count</th>\n",
       "      <th>call_duration</th>\n",
       "      <th>is_missed_call</th>\n",
       "      <th>time_waiting</th>\n",
       "      <th>mean_duration</th>\n",
       "      <th>mean_waiting</th>\n",
       "      <th>calls_count_out</th>\n",
       "      <th>calls_missed_time_waiting</th>\n",
       "      <th>eficiente</th>\n",
       "    </tr>\n",
       "  </thead>\n",
       "  <tbody>\n",
       "    <tr>\n",
       "      <th>1466</th>\n",
       "      <td>936382</td>\n",
       "      <td>in</td>\n",
       "      <td>1</td>\n",
       "      <td>78</td>\n",
       "      <td>0</td>\n",
       "      <td>39</td>\n",
       "      <td>78.000000</td>\n",
       "      <td>39.000000</td>\n",
       "      <td>efficient</td>\n",
       "      <td>efficient</td>\n",
       "      <td>True</td>\n",
       "    </tr>\n",
       "    <tr>\n",
       "      <th>906</th>\n",
       "      <td>939224</td>\n",
       "      <td>in</td>\n",
       "      <td>32</td>\n",
       "      <td>1402</td>\n",
       "      <td>1</td>\n",
       "      <td>515</td>\n",
       "      <td>43.812500</td>\n",
       "      <td>16.093750</td>\n",
       "      <td>efficient</td>\n",
       "      <td>efficient</td>\n",
       "      <td>True</td>\n",
       "    </tr>\n",
       "    <tr>\n",
       "      <th>1293</th>\n",
       "      <td>938432</td>\n",
       "      <td>in</td>\n",
       "      <td>9</td>\n",
       "      <td>1335</td>\n",
       "      <td>0</td>\n",
       "      <td>184</td>\n",
       "      <td>148.333333</td>\n",
       "      <td>20.444444</td>\n",
       "      <td>efficient</td>\n",
       "      <td>efficient</td>\n",
       "      <td>True</td>\n",
       "    </tr>\n",
       "    <tr>\n",
       "      <th>715</th>\n",
       "      <td>922486</td>\n",
       "      <td>out</td>\n",
       "      <td>5</td>\n",
       "      <td>12</td>\n",
       "      <td>3</td>\n",
       "      <td>12</td>\n",
       "      <td>2.400000</td>\n",
       "      <td>2.400000</td>\n",
       "      <td>inefficient</td>\n",
       "      <td>efficient</td>\n",
       "      <td>False</td>\n",
       "    </tr>\n",
       "    <tr>\n",
       "      <th>1551</th>\n",
       "      <td>947596</td>\n",
       "      <td>out</td>\n",
       "      <td>1</td>\n",
       "      <td>56</td>\n",
       "      <td>0</td>\n",
       "      <td>16</td>\n",
       "      <td>56.000000</td>\n",
       "      <td>16.000000</td>\n",
       "      <td>inefficient</td>\n",
       "      <td>efficient</td>\n",
       "      <td>False</td>\n",
       "    </tr>\n",
       "    <tr>\n",
       "      <th>562</th>\n",
       "      <td>945728</td>\n",
       "      <td>out</td>\n",
       "      <td>87</td>\n",
       "      <td>1809</td>\n",
       "      <td>5</td>\n",
       "      <td>1717</td>\n",
       "      <td>20.793103</td>\n",
       "      <td>19.735632</td>\n",
       "      <td>efficient</td>\n",
       "      <td>efficient</td>\n",
       "      <td>True</td>\n",
       "    </tr>\n",
       "    <tr>\n",
       "      <th>1296</th>\n",
       "      <td>908300</td>\n",
       "      <td>in</td>\n",
       "      <td>3</td>\n",
       "      <td>29</td>\n",
       "      <td>0</td>\n",
       "      <td>169</td>\n",
       "      <td>9.666667</td>\n",
       "      <td>56.333333</td>\n",
       "      <td>efficient</td>\n",
       "      <td>efficient</td>\n",
       "      <td>True</td>\n",
       "    </tr>\n",
       "    <tr>\n",
       "      <th>481</th>\n",
       "      <td>919188</td>\n",
       "      <td>out</td>\n",
       "      <td>831</td>\n",
       "      <td>47126</td>\n",
       "      <td>7</td>\n",
       "      <td>18300</td>\n",
       "      <td>56.709988</td>\n",
       "      <td>22.021661</td>\n",
       "      <td>efficient</td>\n",
       "      <td>efficient</td>\n",
       "      <td>True</td>\n",
       "    </tr>\n",
       "    <tr>\n",
       "      <th>644</th>\n",
       "      <td>908958</td>\n",
       "      <td>in</td>\n",
       "      <td>952</td>\n",
       "      <td>104421</td>\n",
       "      <td>3</td>\n",
       "      <td>26062</td>\n",
       "      <td>109.685924</td>\n",
       "      <td>27.376050</td>\n",
       "      <td>efficient</td>\n",
       "      <td>efficient</td>\n",
       "      <td>True</td>\n",
       "    </tr>\n",
       "    <tr>\n",
       "      <th>1627</th>\n",
       "      <td>972460</td>\n",
       "      <td>in</td>\n",
       "      <td>1</td>\n",
       "      <td>14</td>\n",
       "      <td>0</td>\n",
       "      <td>4</td>\n",
       "      <td>14.000000</td>\n",
       "      <td>4.000000</td>\n",
       "      <td>efficient</td>\n",
       "      <td>efficient</td>\n",
       "      <td>True</td>\n",
       "    </tr>\n",
       "  </tbody>\n",
       "</table>\n",
       "</div>"
      ],
      "text/plain": [
       "      operator_id direction  calls_count  call_duration  is_missed_call  \\\n",
       "1466       936382        in            1             78               0   \n",
       "906        939224        in           32           1402               1   \n",
       "1293       938432        in            9           1335               0   \n",
       "715        922486       out            5             12               3   \n",
       "1551       947596       out            1             56               0   \n",
       "562        945728       out           87           1809               5   \n",
       "1296       908300        in            3             29               0   \n",
       "481        919188       out          831          47126               7   \n",
       "644        908958        in          952         104421               3   \n",
       "1627       972460        in            1             14               0   \n",
       "\n",
       "      time_waiting  mean_duration  mean_waiting calls_count_out  \\\n",
       "1466            39      78.000000     39.000000       efficient   \n",
       "906            515      43.812500     16.093750       efficient   \n",
       "1293           184     148.333333     20.444444       efficient   \n",
       "715             12       2.400000      2.400000     inefficient   \n",
       "1551            16      56.000000     16.000000     inefficient   \n",
       "562           1717      20.793103     19.735632       efficient   \n",
       "1296           169       9.666667     56.333333       efficient   \n",
       "481          18300      56.709988     22.021661       efficient   \n",
       "644          26062     109.685924     27.376050       efficient   \n",
       "1627             4      14.000000      4.000000       efficient   \n",
       "\n",
       "     calls_missed_time_waiting  eficiente  \n",
       "1466                 efficient       True  \n",
       "906                  efficient       True  \n",
       "1293                 efficient       True  \n",
       "715                  efficient      False  \n",
       "1551                 efficient      False  \n",
       "562                  efficient       True  \n",
       "1296                 efficient       True  \n",
       "481                  efficient       True  \n",
       "644                  efficient       True  \n",
       "1627                 efficient       True  "
      ]
     },
     "execution_count": 79,
     "metadata": {},
     "output_type": "execute_result"
    }
   ],
   "source": [
    "# mostramos parte de los datos\n",
    "calls_by_operator.sample(10)"
   ]
  },
  {
   "cell_type": "markdown",
   "id": "75887f65",
   "metadata": {},
   "source": [
    "[Volver a contenidos](#contenidos)\n",
    "## Operadores ineficientes"
   ]
  },
  {
   "cell_type": "code",
   "execution_count": 80,
   "id": "f4994071",
   "metadata": {},
   "outputs": [
    {
     "data": {
      "text/plain": [
       "eficiente\n",
       "True     1490\n",
       "False     146\n",
       "Name: count, dtype: int64"
      ]
     },
     "execution_count": 80,
     "metadata": {},
     "output_type": "execute_result"
    }
   ],
   "source": [
    "# veamos la cantidad de operadores ineficientes\n",
    "calls_by_operator['eficiente'].value_counts()"
   ]
  },
  {
   "cell_type": "code",
   "execution_count": 81,
   "id": "09a8d86d",
   "metadata": {},
   "outputs": [
    {
     "data": {
      "text/plain": [
       "calls_count_out\n",
       "efficient      1491\n",
       "inefficient     145\n",
       "Name: count, dtype: int64"
      ]
     },
     "execution_count": 81,
     "metadata": {},
     "output_type": "execute_result"
    }
   ],
   "source": [
    "# operadores ineficientes por la cantidad de llamadas salientes\n",
    "calls_by_operator['calls_count_out'].value_counts()"
   ]
  },
  {
   "cell_type": "code",
   "execution_count": 82,
   "id": "b5b94ada",
   "metadata": {},
   "outputs": [
    {
     "data": {
      "text/plain": [
       "calls_missed_time_waiting\n",
       "efficient      1635\n",
       "inefficient       1\n",
       "Name: count, dtype: int64"
      ]
     },
     "execution_count": 82,
     "metadata": {},
     "output_type": "execute_result"
    }
   ],
   "source": [
    "# operadores ineficientes por la cantidad de llamadas entrantes perdidas y tiempo promedio de espera\n",
    "calls_by_operator['calls_missed_time_waiting'].value_counts()"
   ]
  },
  {
   "cell_type": "markdown",
   "id": "b68f91f5",
   "metadata": {},
   "source": [
    "Dadas las condiciones:\n",
    "1. **Cantidad de llamadas entrantes perdidas mayor a cinco y tiempo promedio de espera mayor a 41.57**\n",
    "1. **Tiene a los más cinco llamadas salientes**\n",
    "\n",
    "Hay 146 operadores ineficientes."
   ]
  },
  {
   "cell_type": "code",
   "execution_count": 83,
   "id": "e8492ae4",
   "metadata": {},
   "outputs": [],
   "source": [
    "# finalmente vamos a crear un archivo 'csv' que contenga la información final del dataframe 'calls_by_operator'\n",
    "#calls_by_operator.to_csv('calls_by_operator.csv')"
   ]
  },
  {
   "cell_type": "code",
   "execution_count": 84,
   "id": "18de6971",
   "metadata": {},
   "outputs": [],
   "source": [
    "#telecom_dataset_us_notna.to_csv('telecom_dataset_us_notna')"
   ]
  },
  {
   "cell_type": "markdown",
   "id": "ec29a1b3",
   "metadata": {},
   "source": [
    "[Volver a contenidos](#contenidos)\n",
    "## Referencias"
   ]
  },
  {
   "cell_type": "markdown",
   "id": "65505425-38be-45d8-889e-1256fdd60221",
   "metadata": {},
   "source": [
    "1. Operadores móviles virtuales:\n",
    "https://selectra.mx/celular/operadores-moviles-virtuales#Operadores%20M%C3%B3viles%20Virtuales%20Con%20Red%20de%20Movistar\n",
    "\n",
    "    - Me ayudó a saber que es un operador móvil y el tipo de servicios que ofrece.\n",
    "    \n",
    "    \n",
    "1. Análisis del Mercado de OMVs 2021: https://www.ift.org.mx/sites/default/files/contenidogeneral/estadisticas/presentacionejecutivaomvs2021.pdf\n",
    "\n",
    "    - Me ayudó a conocer la situación del mercado de los operadores móviles en el mundo a partir del año 2021.\n",
    "    \n",
    "    \n",
    "1. Asimetría:\n",
    "https://www.rankia.com/diccionario/fondos-inversion/skewness\n",
    "\n",
    "    - Me ayudó a entender la asimetría de los datos y cómo detectarla.\n",
    "    \n",
    "\n",
    "1. Outliers:\n",
    "https://careerfoundry.com/en/blog/data-analytics/how-to-find-outliers/#:~:text=Here%20are%20three%20techniques%20we%20can%20use%20to,using%20imputation%20as%20if%20they%20were%20missing%20values\n",
    "\n",
    "    - Me ayudó a entender que es un outlier y cómo detectarlo usando python.\n",
    "    \n",
    "    \n",
    "1. Funciones Apply y lambda:\n",
    "https://www.delftstack.com/es/howto/python-pandas/apply-lambda-functions-to-pandas-dataframe/\n",
    "\n",
    "    - Me ayudó a entender las funciones apply y lambda y su aplicación en las columnas de un dataframe."
   ]
  },
  {
   "cell_type": "markdown",
   "id": "7cb42b0f",
   "metadata": {},
   "source": [
    "[Volver a contenidos](#contenidos)\n",
    "## Links\n",
    "[Presentación](https://github.com/JaimeGalanC/Proyecto_telecomunicaciones.git)\n",
    "\n",
    "[Dashboard](https://public.tableau.com/app/profile/jaime.galanc/viz/callmemaybe/Dashboard1?publish=yes)"
   ]
  }
 ],
 "metadata": {
  "kernelspec": {
   "display_name": "Python 3 (ipykernel)",
   "language": "python",
   "name": "python3"
  },
  "language_info": {
   "codemirror_mode": {
    "name": "ipython",
    "version": 3
   },
   "file_extension": ".py",
   "mimetype": "text/x-python",
   "name": "python",
   "nbconvert_exporter": "python",
   "pygments_lexer": "ipython3",
   "version": "3.9.16"
  },
  "toc": {
   "base_numbering": 1,
   "nav_menu": {},
   "number_sections": true,
   "sideBar": true,
   "skip_h1_title": true,
   "title_cell": "Tabla de Contenidos",
   "title_sidebar": "Contenidos",
   "toc_cell": true,
   "toc_position": {
    "height": "calc(100% - 180px)",
    "left": "10px",
    "top": "150px",
    "width": "382.283px"
   },
   "toc_section_display": true,
   "toc_window_display": false
  },
  "toc-autonumbering": true,
  "varInspector": {
   "cols": {
    "lenName": 16,
    "lenType": 16,
    "lenVar": 40
   },
   "kernels_config": {
    "python": {
     "delete_cmd_postfix": "",
     "delete_cmd_prefix": "del ",
     "library": "var_list.py",
     "varRefreshCmd": "print(var_dic_list())"
    },
    "r": {
     "delete_cmd_postfix": ") ",
     "delete_cmd_prefix": "rm(",
     "library": "var_list.r",
     "varRefreshCmd": "cat(var_dic_list()) "
    }
   },
   "types_to_exclude": [
    "module",
    "function",
    "builtin_function_or_method",
    "instance",
    "_Feature"
   ],
   "window_display": false
  },
  "widgets": {
   "application/vnd.jupyter.widget-state+json": {
    "state": {},
    "version_major": 2,
    "version_minor": 0
   }
  }
 },
 "nbformat": 4,
 "nbformat_minor": 5
}
